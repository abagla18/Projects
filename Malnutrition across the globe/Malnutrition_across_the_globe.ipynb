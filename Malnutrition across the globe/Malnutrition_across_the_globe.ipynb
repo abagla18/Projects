{
 "cells": [
  {
   "cell_type": "markdown",
   "metadata": {},
   "source": [
    "#### **Step 1 : Load all required libraries**\n",
    "*************************************************************************************************************************"
   ]
  },
  {
   "cell_type": "code",
   "execution_count": 1,
   "metadata": {},
   "outputs": [
    {
     "data": {
      "text/html": [
       "        <script type=\"text/javascript\">\n",
       "        window.PlotlyConfig = {MathJaxConfig: 'local'};\n",
       "        if (window.MathJax) {MathJax.Hub.Config({SVG: {font: \"STIX-Web\"}});}\n",
       "        if (typeof require !== 'undefined') {\n",
       "        require.undef(\"plotly\");\n",
       "        requirejs.config({\n",
       "            paths: {\n",
       "                'plotly': ['https://cdn.plot.ly/plotly-2.9.0.min']\n",
       "            }\n",
       "        });\n",
       "        require(['plotly'], function(Plotly) {\n",
       "            window._Plotly = Plotly;\n",
       "        });\n",
       "        }\n",
       "        </script>\n",
       "        "
      ]
     },
     "metadata": {},
     "output_type": "display_data"
    },
    {
     "data": {
      "text/html": [
       "        <script type=\"text/javascript\">\n",
       "        window.PlotlyConfig = {MathJaxConfig: 'local'};\n",
       "        if (window.MathJax) {MathJax.Hub.Config({SVG: {font: \"STIX-Web\"}});}\n",
       "        if (typeof require !== 'undefined') {\n",
       "        require.undef(\"plotly\");\n",
       "        requirejs.config({\n",
       "            paths: {\n",
       "                'plotly': ['https://cdn.plot.ly/plotly-2.9.0.min']\n",
       "            }\n",
       "        });\n",
       "        require(['plotly'], function(Plotly) {\n",
       "            window._Plotly = Plotly;\n",
       "        });\n",
       "        }\n",
       "        </script>\n",
       "        "
      ]
     },
     "metadata": {},
     "output_type": "display_data"
    },
    {
     "name": "stdout",
     "output_type": "stream",
     "text": [
      "Executable Python: C:\\Users\\maity\\.conda\\envs\\aku_mldl\\python.exe\n",
      "Python Version: 3.9.6\n"
     ]
    }
   ],
   "source": [
    "import sys\n",
    "import platform\n",
    "import pandas as pd \n",
    "import numpy as np\n",
    "import seaborn as sns\n",
    "import matplotlib.pyplot as plt\n",
    "%matplotlib inline\n",
    "\n",
    "from plotly.offline import iplot\n",
    "import plotly as py\n",
    "import plotly.tools as tls\n",
    "import plotly.express as px\n",
    "py.offline.init_notebook_mode(connected=True)\n",
    "\n",
    "import cufflinks as cf\n",
    "cf.go_offline()\n",
    "cf.getThemes()\n",
    "\n",
    "print(f\"Executable Python: {sys.executable}\")\n",
    "print(f\"Python Version: {platform.python_version()}\")\n",
    "\n",
    "#To show multiple outputs and misc. changes\n",
    "from IPython.core.interactiveshell import InteractiveShell\n",
    "InteractiveShell.ast_node_interactivity = \"all\" # Show all results without print (last_expr)"
   ]
  },
  {
   "cell_type": "markdown",
   "metadata": {},
   "source": [
    "#### **Step 2 : Load all required Data & check for null values**\n",
    "*************************************************************************************************************************"
   ]
  },
  {
   "cell_type": "code",
   "execution_count": 2,
   "metadata": {},
   "outputs": [
    {
     "data": {
      "text/html": [
       "<div>\n",
       "<style scoped>\n",
       "    .dataframe tbody tr th:only-of-type {\n",
       "        vertical-align: middle;\n",
       "    }\n",
       "\n",
       "    .dataframe tbody tr th {\n",
       "        vertical-align: top;\n",
       "    }\n",
       "\n",
       "    .dataframe thead th {\n",
       "        text-align: right;\n",
       "    }\n",
       "</style>\n",
       "<table border=\"1\" class=\"dataframe\">\n",
       "  <thead>\n",
       "    <tr style=\"text-align: right;\">\n",
       "      <th></th>\n",
       "      <th>Country</th>\n",
       "      <th>Income Classification</th>\n",
       "      <th>Severe Wasting</th>\n",
       "      <th>Wasting</th>\n",
       "      <th>Overweight</th>\n",
       "      <th>Stunting</th>\n",
       "      <th>Underweight</th>\n",
       "      <th>U5 Population ('000s)</th>\n",
       "    </tr>\n",
       "  </thead>\n",
       "  <tbody>\n",
       "    <tr>\n",
       "      <th>0</th>\n",
       "      <td>AFGHANISTAN</td>\n",
       "      <td>0.0</td>\n",
       "      <td>3.033333</td>\n",
       "      <td>10.350000</td>\n",
       "      <td>5.125000</td>\n",
       "      <td>47.775000</td>\n",
       "      <td>30.375000</td>\n",
       "      <td>4918.561500</td>\n",
       "    </tr>\n",
       "    <tr>\n",
       "      <th>1</th>\n",
       "      <td>ALBANIA</td>\n",
       "      <td>2.0</td>\n",
       "      <td>4.075000</td>\n",
       "      <td>7.760000</td>\n",
       "      <td>20.800000</td>\n",
       "      <td>24.160000</td>\n",
       "      <td>7.700000</td>\n",
       "      <td>232.859800</td>\n",
       "    </tr>\n",
       "    <tr>\n",
       "      <th>2</th>\n",
       "      <td>ALGERIA</td>\n",
       "      <td>2.0</td>\n",
       "      <td>2.733333</td>\n",
       "      <td>5.942857</td>\n",
       "      <td>12.833333</td>\n",
       "      <td>19.571429</td>\n",
       "      <td>7.342857</td>\n",
       "      <td>3565.213143</td>\n",
       "    </tr>\n",
       "    <tr>\n",
       "      <th>3</th>\n",
       "      <td>ANGOLA</td>\n",
       "      <td>1.0</td>\n",
       "      <td>2.400000</td>\n",
       "      <td>6.933333</td>\n",
       "      <td>2.550000</td>\n",
       "      <td>42.633333</td>\n",
       "      <td>23.600000</td>\n",
       "      <td>3980.054000</td>\n",
       "    </tr>\n",
       "    <tr>\n",
       "      <th>4</th>\n",
       "      <td>ARGENTINA</td>\n",
       "      <td>2.0</td>\n",
       "      <td>0.200000</td>\n",
       "      <td>2.150000</td>\n",
       "      <td>11.125000</td>\n",
       "      <td>10.025000</td>\n",
       "      <td>2.600000</td>\n",
       "      <td>3613.651750</td>\n",
       "    </tr>\n",
       "  </tbody>\n",
       "</table>\n",
       "</div>"
      ],
      "text/plain": [
       "       Country  Income Classification  Severe Wasting    Wasting  Overweight  \\\n",
       "0  AFGHANISTAN                    0.0        3.033333  10.350000    5.125000   \n",
       "1      ALBANIA                    2.0        4.075000   7.760000   20.800000   \n",
       "2      ALGERIA                    2.0        2.733333   5.942857   12.833333   \n",
       "3       ANGOLA                    1.0        2.400000   6.933333    2.550000   \n",
       "4    ARGENTINA                    2.0        0.200000   2.150000   11.125000   \n",
       "\n",
       "    Stunting  Underweight  U5 Population ('000s)  \n",
       "0  47.775000    30.375000            4918.561500  \n",
       "1  24.160000     7.700000             232.859800  \n",
       "2  19.571429     7.342857            3565.213143  \n",
       "3  42.633333    23.600000            3980.054000  \n",
       "4  10.025000     2.600000            3613.651750  "
      ]
     },
     "execution_count": 2,
     "metadata": {},
     "output_type": "execute_result"
    },
    {
     "name": "stdout",
     "output_type": "stream",
     "text": [
      "<class 'pandas.core.frame.DataFrame'>\n",
      "RangeIndex: 152 entries, 0 to 151\n",
      "Data columns (total 8 columns):\n",
      " #   Column                 Non-Null Count  Dtype  \n",
      "---  ------                 --------------  -----  \n",
      " 0   Country                152 non-null    object \n",
      " 1   Income Classification  152 non-null    float64\n",
      " 2   Severe Wasting         140 non-null    float64\n",
      " 3   Wasting                150 non-null    float64\n",
      " 4   Overweight             149 non-null    float64\n",
      " 5   Stunting               151 non-null    float64\n",
      " 6   Underweight            150 non-null    float64\n",
      " 7   U5 Population ('000s)  152 non-null    float64\n",
      "dtypes: float64(7), object(1)\n",
      "memory usage: 9.6+ KB\n"
     ]
    },
    {
     "data": {
      "text/html": [
       "<div>\n",
       "<style scoped>\n",
       "    .dataframe tbody tr th:only-of-type {\n",
       "        vertical-align: middle;\n",
       "    }\n",
       "\n",
       "    .dataframe tbody tr th {\n",
       "        vertical-align: top;\n",
       "    }\n",
       "\n",
       "    .dataframe thead th {\n",
       "        text-align: right;\n",
       "    }\n",
       "</style>\n",
       "<table border=\"1\" class=\"dataframe\">\n",
       "  <thead>\n",
       "    <tr style=\"text-align: right;\">\n",
       "      <th></th>\n",
       "      <th>Unnamed: 0</th>\n",
       "      <th>ISO code</th>\n",
       "      <th>Country</th>\n",
       "      <th>Survey Year</th>\n",
       "      <th>Year</th>\n",
       "      <th>Income Classification</th>\n",
       "      <th>LDC</th>\n",
       "      <th>LIFD</th>\n",
       "      <th>LLDC or SID2</th>\n",
       "      <th>Survey Sample (N)</th>\n",
       "      <th>Severe Wasting</th>\n",
       "      <th>Wasting</th>\n",
       "      <th>Overweight</th>\n",
       "      <th>Stunting</th>\n",
       "      <th>Underweight</th>\n",
       "      <th>Notes</th>\n",
       "      <th>Report Author</th>\n",
       "      <th>Source</th>\n",
       "      <th>Short Source</th>\n",
       "      <th>U5 Population ('000s)</th>\n",
       "    </tr>\n",
       "  </thead>\n",
       "  <tbody>\n",
       "    <tr>\n",
       "      <th>0</th>\n",
       "      <td>0</td>\n",
       "      <td>AFG</td>\n",
       "      <td>AFGHANISTAN</td>\n",
       "      <td>1997</td>\n",
       "      <td>1997</td>\n",
       "      <td>0</td>\n",
       "      <td>1.0</td>\n",
       "      <td>1.0</td>\n",
       "      <td>1.0</td>\n",
       "      <td>4,846</td>\n",
       "      <td>NaN</td>\n",
       "      <td>18.2</td>\n",
       "      <td>6.5</td>\n",
       "      <td>53.2</td>\n",
       "      <td>44.9</td>\n",
       "      <td>Converted estimates</td>\n",
       "      <td>CIET International</td>\n",
       "      <td>Afghanistan 1997 multiple indicator baseline (...</td>\n",
       "      <td>MICS</td>\n",
       "      <td>3838.877</td>\n",
       "    </tr>\n",
       "    <tr>\n",
       "      <th>1</th>\n",
       "      <td>1</td>\n",
       "      <td>AFG</td>\n",
       "      <td>AFGHANISTAN</td>\n",
       "      <td>2004</td>\n",
       "      <td>2004</td>\n",
       "      <td>0</td>\n",
       "      <td>1.0</td>\n",
       "      <td>1.0</td>\n",
       "      <td>1.0</td>\n",
       "      <td>946</td>\n",
       "      <td>3.5</td>\n",
       "      <td>8.6</td>\n",
       "      <td>4.6</td>\n",
       "      <td>59.3</td>\n",
       "      <td>32.9</td>\n",
       "      <td>NaN</td>\n",
       "      <td>Ministry of Public Health (Afghanistan), UNICE...</td>\n",
       "      <td>Summary report of the national nutrition surve...</td>\n",
       "      <td>NNS</td>\n",
       "      <td>4789.353</td>\n",
       "    </tr>\n",
       "    <tr>\n",
       "      <th>2</th>\n",
       "      <td>2</td>\n",
       "      <td>AFG</td>\n",
       "      <td>AFGHANISTAN</td>\n",
       "      <td>2013</td>\n",
       "      <td>2013</td>\n",
       "      <td>0</td>\n",
       "      <td>1.0</td>\n",
       "      <td>1.0</td>\n",
       "      <td>1.0</td>\n",
       "      <td>44,26,469</td>\n",
       "      <td>4.0</td>\n",
       "      <td>9.5</td>\n",
       "      <td>5.3</td>\n",
       "      <td>40.4</td>\n",
       "      <td>24.6</td>\n",
       "      <td>NaN</td>\n",
       "      <td>Ministry of Public Health, UNICEF and the Aga ...</td>\n",
       "      <td>Afghanistan National Nutrition Survey 2013.</td>\n",
       "      <td>SMART</td>\n",
       "      <td>5444.573</td>\n",
       "    </tr>\n",
       "    <tr>\n",
       "      <th>3</th>\n",
       "      <td>3</td>\n",
       "      <td>AFG</td>\n",
       "      <td>AFGHANISTAN</td>\n",
       "      <td>2018</td>\n",
       "      <td>2018</td>\n",
       "      <td>0</td>\n",
       "      <td>1.0</td>\n",
       "      <td>1.0</td>\n",
       "      <td>1.0</td>\n",
       "      <td>NaN</td>\n",
       "      <td>1.6</td>\n",
       "      <td>5.1</td>\n",
       "      <td>4.1</td>\n",
       "      <td>38.2</td>\n",
       "      <td>19.1</td>\n",
       "      <td>NaN</td>\n",
       "      <td>KIT Royal Tropical Institute</td>\n",
       "      <td>Afghanistan Health Survey 2018</td>\n",
       "      <td>Other</td>\n",
       "      <td>5601.443</td>\n",
       "    </tr>\n",
       "    <tr>\n",
       "      <th>4</th>\n",
       "      <td>4</td>\n",
       "      <td>ALB</td>\n",
       "      <td>ALBANIA</td>\n",
       "      <td>1996-98</td>\n",
       "      <td>1997</td>\n",
       "      <td>2</td>\n",
       "      <td>0.0</td>\n",
       "      <td>0.0</td>\n",
       "      <td>0.0</td>\n",
       "      <td>7,642</td>\n",
       "      <td>NaN</td>\n",
       "      <td>8.1</td>\n",
       "      <td>9.5</td>\n",
       "      <td>20.4</td>\n",
       "      <td>7.1</td>\n",
       "      <td>Converted estimates</td>\n",
       "      <td>Institute of Public Health, Food and Nutrition...</td>\n",
       "      <td>National study on nutrition in Albania. Instit...</td>\n",
       "      <td>Other</td>\n",
       "      <td>309.225</td>\n",
       "    </tr>\n",
       "  </tbody>\n",
       "</table>\n",
       "</div>"
      ],
      "text/plain": [
       "   Unnamed: 0 ISO code      Country Survey Year  Year  Income Classification  \\\n",
       "0           0      AFG  AFGHANISTAN        1997  1997                      0   \n",
       "1           1      AFG  AFGHANISTAN        2004  2004                      0   \n",
       "2           2      AFG  AFGHANISTAN        2013  2013                      0   \n",
       "3           3      AFG  AFGHANISTAN        2018  2018                      0   \n",
       "4           4      ALB      ALBANIA     1996-98  1997                      2   \n",
       "\n",
       "   LDC  LIFD  LLDC or SID2 Survey Sample (N)  Severe Wasting  Wasting  \\\n",
       "0  1.0   1.0           1.0             4,846             NaN     18.2   \n",
       "1  1.0   1.0           1.0               946             3.5      8.6   \n",
       "2  1.0   1.0           1.0         44,26,469             4.0      9.5   \n",
       "3  1.0   1.0           1.0               NaN             1.6      5.1   \n",
       "4  0.0   0.0           0.0             7,642             NaN      8.1   \n",
       "\n",
       "   Overweight  Stunting  Underweight                Notes  \\\n",
       "0         6.5      53.2         44.9  Converted estimates   \n",
       "1         4.6      59.3         32.9                  NaN   \n",
       "2         5.3      40.4         24.6                  NaN   \n",
       "3         4.1      38.2         19.1                  NaN   \n",
       "4         9.5      20.4          7.1  Converted estimates   \n",
       "\n",
       "                                       Report Author  \\\n",
       "0                                 CIET International   \n",
       "1  Ministry of Public Health (Afghanistan), UNICE...   \n",
       "2  Ministry of Public Health, UNICEF and the Aga ...   \n",
       "3                       KIT Royal Tropical Institute   \n",
       "4  Institute of Public Health, Food and Nutrition...   \n",
       "\n",
       "                                              Source Short Source  \\\n",
       "0  Afghanistan 1997 multiple indicator baseline (...         MICS   \n",
       "1  Summary report of the national nutrition surve...          NNS   \n",
       "2        Afghanistan National Nutrition Survey 2013.        SMART   \n",
       "3                     Afghanistan Health Survey 2018        Other   \n",
       "4  National study on nutrition in Albania. Instit...        Other   \n",
       "\n",
       "   U5 Population ('000s)  \n",
       "0               3838.877  \n",
       "1               4789.353  \n",
       "2               5444.573  \n",
       "3               5601.443  \n",
       "4                309.225  "
      ]
     },
     "execution_count": 2,
     "metadata": {},
     "output_type": "execute_result"
    },
    {
     "name": "stdout",
     "output_type": "stream",
     "text": [
      "<class 'pandas.core.frame.DataFrame'>\n",
      "RangeIndex: 924 entries, 0 to 923\n",
      "Data columns (total 20 columns):\n",
      " #   Column                 Non-Null Count  Dtype  \n",
      "---  ------                 --------------  -----  \n",
      " 0   Unnamed: 0             924 non-null    int64  \n",
      " 1   ISO code               924 non-null    object \n",
      " 2   Country                924 non-null    object \n",
      " 3   Survey Year            924 non-null    object \n",
      " 4   Year                   924 non-null    int64  \n",
      " 5   Income Classification  924 non-null    int64  \n",
      " 6   LDC                    924 non-null    float64\n",
      " 7   LIFD                   924 non-null    float64\n",
      " 8   LLDC or SID2           924 non-null    float64\n",
      " 9   Survey Sample (N)      861 non-null    object \n",
      " 10  Severe Wasting         696 non-null    float64\n",
      " 11  Wasting                877 non-null    float64\n",
      " 12  Overweight             788 non-null    float64\n",
      " 13  Stunting               887 non-null    float64\n",
      " 14  Underweight            902 non-null    float64\n",
      " 15  Notes                  327 non-null    object \n",
      " 16  Report Author          924 non-null    object \n",
      " 17  Source                 924 non-null    object \n",
      " 18  Short Source           924 non-null    object \n",
      " 19  U5 Population ('000s)  924 non-null    float64\n",
      "dtypes: float64(9), int64(3), object(8)\n",
      "memory usage: 144.5+ KB\n"
     ]
    }
   ],
   "source": [
    "Data_CWA= pd.read_csv(\"G:\\\\My Drive\\\\Projects\\\\Malnutrition across the globe\\\\data3\\\\country-wise-average.csv\")\n",
    "Data_Estimates = pd.read_csv(\"G:\\\\My Drive\\\\Projects\\\\Malnutrition across the globe\\\\data3\\\\malnutrition-estimates.csv\")\n",
    "Data_CWA.head()\n",
    "Data_CWA.info()\n",
    "Data_Estimates.head()\n",
    "Data_Estimates.info()"
   ]
  },
  {
   "cell_type": "markdown",
   "metadata": {},
   "source": [
    "#### **Step 3 : Make a Dataframe of useful columns from Data Estimates table**\n",
    "*************************************************************************************************************************"
   ]
  },
  {
   "cell_type": "code",
   "execution_count": 3,
   "metadata": {},
   "outputs": [
    {
     "data": {
      "text/html": [
       "<div>\n",
       "<style scoped>\n",
       "    .dataframe tbody tr th:only-of-type {\n",
       "        vertical-align: middle;\n",
       "    }\n",
       "\n",
       "    .dataframe tbody tr th {\n",
       "        vertical-align: top;\n",
       "    }\n",
       "\n",
       "    .dataframe thead th {\n",
       "        text-align: right;\n",
       "    }\n",
       "</style>\n",
       "<table border=\"1\" class=\"dataframe\">\n",
       "  <thead>\n",
       "    <tr style=\"text-align: right;\">\n",
       "      <th></th>\n",
       "      <th>ISO code</th>\n",
       "      <th>Country</th>\n",
       "      <th>Survey Year</th>\n",
       "      <th>Income Classification</th>\n",
       "      <th>LDC</th>\n",
       "      <th>LIFD</th>\n",
       "      <th>LLDC or SID2</th>\n",
       "      <th>Survey Sample (N)</th>\n",
       "      <th>Severe Wasting</th>\n",
       "      <th>Wasting</th>\n",
       "      <th>Stunting</th>\n",
       "      <th>Overweight</th>\n",
       "      <th>Underweight</th>\n",
       "      <th>U5 Population ('000s)</th>\n",
       "    </tr>\n",
       "  </thead>\n",
       "  <tbody>\n",
       "    <tr>\n",
       "      <th>0</th>\n",
       "      <td>AFG</td>\n",
       "      <td>AFGHANISTAN</td>\n",
       "      <td>1997</td>\n",
       "      <td>0</td>\n",
       "      <td>1.0</td>\n",
       "      <td>1.0</td>\n",
       "      <td>1.0</td>\n",
       "      <td>4,846</td>\n",
       "      <td>NaN</td>\n",
       "      <td>18.2</td>\n",
       "      <td>53.2</td>\n",
       "      <td>6.5</td>\n",
       "      <td>44.9</td>\n",
       "      <td>3838.877</td>\n",
       "    </tr>\n",
       "    <tr>\n",
       "      <th>1</th>\n",
       "      <td>AFG</td>\n",
       "      <td>AFGHANISTAN</td>\n",
       "      <td>2004</td>\n",
       "      <td>0</td>\n",
       "      <td>1.0</td>\n",
       "      <td>1.0</td>\n",
       "      <td>1.0</td>\n",
       "      <td>946</td>\n",
       "      <td>3.5</td>\n",
       "      <td>8.6</td>\n",
       "      <td>59.3</td>\n",
       "      <td>4.6</td>\n",
       "      <td>32.9</td>\n",
       "      <td>4789.353</td>\n",
       "    </tr>\n",
       "    <tr>\n",
       "      <th>2</th>\n",
       "      <td>AFG</td>\n",
       "      <td>AFGHANISTAN</td>\n",
       "      <td>2013</td>\n",
       "      <td>0</td>\n",
       "      <td>1.0</td>\n",
       "      <td>1.0</td>\n",
       "      <td>1.0</td>\n",
       "      <td>44,26,469</td>\n",
       "      <td>4.0</td>\n",
       "      <td>9.5</td>\n",
       "      <td>40.4</td>\n",
       "      <td>5.3</td>\n",
       "      <td>24.6</td>\n",
       "      <td>5444.573</td>\n",
       "    </tr>\n",
       "    <tr>\n",
       "      <th>3</th>\n",
       "      <td>AFG</td>\n",
       "      <td>AFGHANISTAN</td>\n",
       "      <td>2018</td>\n",
       "      <td>0</td>\n",
       "      <td>1.0</td>\n",
       "      <td>1.0</td>\n",
       "      <td>1.0</td>\n",
       "      <td>NaN</td>\n",
       "      <td>1.6</td>\n",
       "      <td>5.1</td>\n",
       "      <td>38.2</td>\n",
       "      <td>4.1</td>\n",
       "      <td>19.1</td>\n",
       "      <td>5601.443</td>\n",
       "    </tr>\n",
       "    <tr>\n",
       "      <th>4</th>\n",
       "      <td>ALB</td>\n",
       "      <td>ALBANIA</td>\n",
       "      <td>1996-98</td>\n",
       "      <td>2</td>\n",
       "      <td>0.0</td>\n",
       "      <td>0.0</td>\n",
       "      <td>0.0</td>\n",
       "      <td>7,642</td>\n",
       "      <td>NaN</td>\n",
       "      <td>8.1</td>\n",
       "      <td>20.4</td>\n",
       "      <td>9.5</td>\n",
       "      <td>7.1</td>\n",
       "      <td>309.225</td>\n",
       "    </tr>\n",
       "  </tbody>\n",
       "</table>\n",
       "</div>"
      ],
      "text/plain": [
       "  ISO code      Country Survey Year  Income Classification  LDC  LIFD  \\\n",
       "0      AFG  AFGHANISTAN        1997                      0  1.0   1.0   \n",
       "1      AFG  AFGHANISTAN        2004                      0  1.0   1.0   \n",
       "2      AFG  AFGHANISTAN        2013                      0  1.0   1.0   \n",
       "3      AFG  AFGHANISTAN        2018                      0  1.0   1.0   \n",
       "4      ALB      ALBANIA     1996-98                      2  0.0   0.0   \n",
       "\n",
       "   LLDC or SID2 Survey Sample (N)  Severe Wasting  Wasting  Stunting  \\\n",
       "0           1.0             4,846             NaN     18.2      53.2   \n",
       "1           1.0               946             3.5      8.6      59.3   \n",
       "2           1.0         44,26,469             4.0      9.5      40.4   \n",
       "3           1.0               NaN             1.6      5.1      38.2   \n",
       "4           0.0             7,642             NaN      8.1      20.4   \n",
       "\n",
       "   Overweight  Underweight  U5 Population ('000s)  \n",
       "0         6.5         44.9               3838.877  \n",
       "1         4.6         32.9               4789.353  \n",
       "2         5.3         24.6               5444.573  \n",
       "3         4.1         19.1               5601.443  \n",
       "4         9.5          7.1                309.225  "
      ]
     },
     "execution_count": 3,
     "metadata": {},
     "output_type": "execute_result"
    },
    {
     "name": "stdout",
     "output_type": "stream",
     "text": [
      "<class 'pandas.core.frame.DataFrame'>\n",
      "RangeIndex: 924 entries, 0 to 923\n",
      "Data columns (total 14 columns):\n",
      " #   Column                 Non-Null Count  Dtype  \n",
      "---  ------                 --------------  -----  \n",
      " 0   ISO code               924 non-null    object \n",
      " 1   Country                924 non-null    object \n",
      " 2   Survey Year            924 non-null    object \n",
      " 3   Income Classification  924 non-null    int64  \n",
      " 4   LDC                    924 non-null    float64\n",
      " 5   LIFD                   924 non-null    float64\n",
      " 6   LLDC or SID2           924 non-null    float64\n",
      " 7   Survey Sample (N)      861 non-null    object \n",
      " 8   Severe Wasting         696 non-null    float64\n",
      " 9   Wasting                877 non-null    float64\n",
      " 10  Stunting               887 non-null    float64\n",
      " 11  Overweight             788 non-null    float64\n",
      " 12  Underweight            902 non-null    float64\n",
      " 13  U5 Population ('000s)  924 non-null    float64\n",
      "dtypes: float64(9), int64(1), object(4)\n",
      "memory usage: 101.2+ KB\n"
     ]
    }
   ],
   "source": [
    "mal_countries = Data_Estimates[['ISO code','Country','Survey Year','Income Classification','LDC','LIFD','LLDC or SID2','Survey Sample (N)','Severe Wasting','Wasting','Stunting','Overweight','Underweight',\"U5 Population ('000s)\"]]\n",
    "mal_countries.head()\n",
    "mal_countries.info()"
   ]
  },
  {
   "cell_type": "markdown",
   "metadata": {},
   "source": [
    "#### **Step 4 : Replacing null values by mean of their columns**\n",
    "*************************************************************************************************************************"
   ]
  },
  {
   "cell_type": "code",
   "execution_count": 4,
   "metadata": {},
   "outputs": [],
   "source": [
    "# fill nan with average for Severe Wasting, Wasting, Stunting, Overweight, Underweight, U5 Population ('000s)\n",
    "mal_countries[\"Severe Wasting\"].fillna(mal_countries[\"Severe Wasting\"].mean(), inplace=True)\n",
    "mal_countries[\"Wasting\"].fillna(mal_countries[\"Wasting\"].mean(), inplace=True)\n",
    "mal_countries[\"Stunting\"].fillna(mal_countries[\"Stunting\"].mean(), inplace=True)\n",
    "mal_countries[\"Overweight\"].fillna(mal_countries[\"Overweight\"].mean(), inplace=True)\n",
    "mal_countries[\"Underweight\"].fillna(mal_countries[\"Underweight\"].mean(), inplace=True)\n",
    "mal_countries[\"U5 Population ('000s)\"].fillna(mal_countries[\"U5 Population ('000s)\"].mean(), inplace=True)"
   ]
  },
  {
   "cell_type": "markdown",
   "metadata": {},
   "source": [
    "#### **Step 5 : Converting categorical data columns into a yes or no categories**\n",
    "*************************************************************************************************************************"
   ]
  },
  {
   "cell_type": "code",
   "execution_count": 5,
   "metadata": {},
   "outputs": [],
   "source": [
    "mal_countries[\"Least_Developed_Country\"] = mal_countries[\"LDC\"].apply(lambda x: \"Yes\" if x == 1 else \"No\")\n",
    "mal_countries[\"Low_Income_Food_Deficit\"] = mal_countries[\"LIFD\"].apply(lambda x: \"Yes\" if x == 1 else \"No\")\n",
    "mal_countries[\"Landlocked_Developed_Countries\"] = mal_countries[\"LLDC or SID2\"].apply(lambda x: \"Yes\" if x == 1 else \"No\")\n",
    "def condition(x):\n",
    "    if x== 0 :\n",
    "        return \"Under Low Income\"\n",
    "    elif  x== 1 :\n",
    "        return \"Low Income\"\n",
    "    elif  x== 2 :\n",
    "        return \"Middle Income\"\n",
    "    else :\n",
    "        return \"High Income\"\n",
    "\n",
    "mal_countries[\"Income_Classification\"] = mal_countries[\"Income Classification\"].apply(condition)"
   ]
  },
  {
   "cell_type": "markdown",
   "metadata": {},
   "source": [
    "#### **Step 6 : Converting survey sample column from object to string to fill the null values correctly and then again converting to numerical value**\n",
    "*************************************************************************************************************************"
   ]
  },
  {
   "cell_type": "code",
   "execution_count": 6,
   "metadata": {},
   "outputs": [
    {
     "name": "stderr",
     "output_type": "stream",
     "text": [
      "C:\\Users\\maity\\AppData\\Local\\Temp/ipykernel_5916/2864389901.py:8: FutureWarning:\n",
      "\n",
      "The default value of regex will change from True to False in a future version.\n",
      "\n"
     ]
    },
    {
     "data": {
      "text/html": [
       "<div>\n",
       "<style scoped>\n",
       "    .dataframe tbody tr th:only-of-type {\n",
       "        vertical-align: middle;\n",
       "    }\n",
       "\n",
       "    .dataframe tbody tr th {\n",
       "        vertical-align: top;\n",
       "    }\n",
       "\n",
       "    .dataframe thead th {\n",
       "        text-align: right;\n",
       "    }\n",
       "</style>\n",
       "<table border=\"1\" class=\"dataframe\">\n",
       "  <thead>\n",
       "    <tr style=\"text-align: right;\">\n",
       "      <th></th>\n",
       "      <th>Survey_Sample_N</th>\n",
       "    </tr>\n",
       "    <tr>\n",
       "      <th>Country</th>\n",
       "      <th></th>\n",
       "    </tr>\n",
       "  </thead>\n",
       "  <tbody>\n",
       "    <tr>\n",
       "      <th>AFGHANISTAN</th>\n",
       "      <td>4846.0</td>\n",
       "    </tr>\n",
       "    <tr>\n",
       "      <th>ALBANIA</th>\n",
       "      <td>1489.0</td>\n",
       "    </tr>\n",
       "    <tr>\n",
       "      <th>ALGERIA</th>\n",
       "      <td>4357.0</td>\n",
       "    </tr>\n",
       "    <tr>\n",
       "      <th>ANGOLA</th>\n",
       "      <td>7468.0</td>\n",
       "    </tr>\n",
       "    <tr>\n",
       "      <th>ARGENTINA</th>\n",
       "      <td>91943.0</td>\n",
       "    </tr>\n",
       "    <tr>\n",
       "      <th>ARMENIA</th>\n",
       "      <td>1486.0</td>\n",
       "    </tr>\n",
       "    <tr>\n",
       "      <th>AUSTRALIA</th>\n",
       "      <td>518908.5</td>\n",
       "    </tr>\n",
       "    <tr>\n",
       "      <th>AZERBAIJAN</th>\n",
       "      <td>2275.5</td>\n",
       "    </tr>\n",
       "    <tr>\n",
       "      <th>BAHRAIN</th>\n",
       "      <td>1353.0</td>\n",
       "    </tr>\n",
       "    <tr>\n",
       "      <th>BANGLADESH</th>\n",
       "      <td>32493.0</td>\n",
       "    </tr>\n",
       "  </tbody>\n",
       "</table>\n",
       "</div>"
      ],
      "text/plain": [
       "             Survey_Sample_N\n",
       "Country                     \n",
       "AFGHANISTAN           4846.0\n",
       "ALBANIA               1489.0\n",
       "ALGERIA               4357.0\n",
       "ANGOLA                7468.0\n",
       "ARGENTINA            91943.0\n",
       "ARMENIA               1486.0\n",
       "AUSTRALIA           518908.5\n",
       "AZERBAIJAN            2275.5\n",
       "BAHRAIN               1353.0\n",
       "BANGLADESH           32493.0"
      ]
     },
     "execution_count": 6,
     "metadata": {},
     "output_type": "execute_result"
    }
   ],
   "source": [
    "# Convert Survey Sample (N) to string\n",
    "mal_countries[\"Survey_Sample_N\"] = mal_countries[\"Survey Sample (N)\"].apply(lambda x: str(x))\n",
    "\n",
    "# In Survey_Sample_N replace \"nan\" with blank\n",
    "mal_countries[\"Survey_Sample_N\"] = mal_countries[\"Survey_Sample_N\"].apply(lambda x: x.replace(\"nan\", \"\"))\n",
    "\n",
    "# In Survey_Sample_N replace any character which is not a number with blank\n",
    "mal_countries[\"Survey_Sample_N\"] = mal_countries[\"Survey_Sample_N\"].str.replace(\"[^0-9]\", \"\")\n",
    "\n",
    "# Convert Survey Sample (N) to numeric\n",
    "mal_countries[\"Survey_Sample_N\"] = pd.to_numeric(mal_countries[\"Survey_Sample_N\"])\n",
    "\n",
    "# replace nan values in survey_sample_n with mean of each country\n",
    "mal_countries.groupby([\"Country\"]).agg({\"Survey_Sample_N\": \"median\"}).head(10)"
   ]
  },
  {
   "cell_type": "markdown",
   "metadata": {},
   "source": [
    "#### **Step 7 : Dropping all duplicate columns**\n",
    "*************************************************************************************************************************"
   ]
  },
  {
   "cell_type": "code",
   "execution_count": 7,
   "metadata": {},
   "outputs": [],
   "source": [
    "# drop multiple columns from the mal_countries \n",
    "mal_countries.drop([\"LDC\",\"LIFD\",\"LLDC or SID2\",\"Income Classification\",\"Survey Sample (N)\"], axis=1, inplace=True)"
   ]
  },
  {
   "cell_type": "markdown",
   "metadata": {},
   "source": [
    "#### **Step 8 : Cleaning the survey year column by only choosing the year before the special character and later converting the column to datetime**\n",
    "*************************************************************************************************************************"
   ]
  },
  {
   "cell_type": "code",
   "execution_count": 8,
   "metadata": {},
   "outputs": [],
   "source": [
    "# keep only numbers before the hyphen from column survey year using replace regex\n",
    "mal_countries['Survey Year']= mal_countries['Survey Year'].replace('\\-\\d*', '', regex=True)\n",
    "\n",
    "# convert survey year to datetime\n",
    "mal_countries['Survey Year'] = pd.to_datetime(mal_countries['Survey Year'], format='%Y')"
   ]
  },
  {
   "cell_type": "markdown",
   "metadata": {},
   "source": [
    "#### **Step 9 : Changing income classification column from Data_CWA table to categorical column**\n",
    "*************************************************************************************************************************"
   ]
  },
  {
   "cell_type": "code",
   "execution_count": 9,
   "metadata": {},
   "outputs": [],
   "source": [
    "Data_CWA[\"Income Classification\"]= Data_CWA[\"Income Classification\"].astype(\"category\")"
   ]
  },
  {
   "cell_type": "markdown",
   "metadata": {},
   "source": [
    "### **Step 10 : Plotting Graphs to Draw Conclusions**\n",
    "*************************************************************************************************************************"
   ]
  },
  {
   "cell_type": "markdown",
   "metadata": {},
   "source": [
    "#### This is to determine if percent underweight of the country changes as the income classification increases "
   ]
  },
  {
   "cell_type": "code",
   "execution_count": 10,
   "metadata": {},
   "outputs": [
    {
     "data": {
      "application/vnd.plotly.v1+json": {
       "config": {
        "plotlyServerURL": "https://plot.ly"
       },
       "data": [
        {
         "hovertemplate": "Income Classification=0.0<br>Underweight=%{x}<br>Country=%{y}<extra></extra>",
         "legendgroup": "0.0",
         "marker": {
          "color": "#2E91E5",
          "symbol": "circle"
         },
         "mode": "markers",
         "name": "0.0",
         "orientation": "h",
         "showlegend": true,
         "type": "scatter",
         "x": [
          10.05,
          10.933333333333332,
          15.533333333333337,
          15.88888888888889,
          16.300000000000004,
          16.9,
          17.40666666666667,
          17.727272727272723,
          17.740000000000002,
          18.05,
          18.93333333333333,
          19.262500000000003,
          20.125,
          20.39,
          20.75714285714286,
          23.12857142857143,
          23.36666666666667,
          25.076923076923077,
          26.03333333333333,
          26.67142857142857,
          26.84,
          30.1,
          30.375,
          31.057142857142853,
          31.4,
          32.25,
          34.31428571428571,
          36.95,
          37.55,
          37.78571428571428,
          38.263636363636365
         ],
         "xaxis": "x",
         "y": [
          "SYRIAN ARAB REPUBLIC (THE)",
          "TAJIKISTAN",
          "UGANDA",
          "RWANDA",
          "GAMBIA (THE)",
          "HAITI",
          "MALAWI",
          "UNITED REPUBLIC OF TANZANIA (THE)",
          "LIBERIA",
          "GUINEA-BISSAU",
          "TOGO",
          "GUINEA",
          "BENIN",
          "SIERRA LEONE",
          "MOZAMBIQUE",
          "DEMOCRATIC PEOPLE'S REP. OF KOREA (THE)",
          "CENTRAL AFRICAN REPUBLIC (THE)",
          "BURKINA FASO",
          "SOMALIA",
          "MALI",
          "DEMOCRATIC REP. OF THE CONGO (THE)",
          "SOUTH SUDAN",
          "AFGHANISTAN",
          "ETHIOPIA",
          "CHAD",
          "BURUNDI",
          "MADAGASCAR",
          "NEPAL",
          "ERITREA",
          "YEMEN",
          "NIGER (THE)"
         ],
         "yaxis": "y"
        },
        {
         "hovertemplate": "Income Classification=1.0<br>Underweight=%{x}<br>Country=%{y}<extra></extra>",
         "legendgroup": "1.0",
         "marker": {
          "color": "#E15F99",
          "symbol": "circle"
         },
         "mode": "markers",
         "name": "1.0",
         "orientation": "h",
         "showlegend": true,
         "type": "scatter",
         "x": [
          2.7,
          2.92,
          3.65,
          4.1,
          4.366666666666667,
          5.911111111111111,
          6.819999999999999,
          6.916666666666667,
          7,
          7.033333333333334,
          7.472727272727273,
          7.766666666666667,
          8.639999999999999,
          10.71,
          11.26,
          11.266666666666666,
          12.75,
          13.099999999999998,
          13.2,
          13.785714285714286,
          14.085714285714287,
          14.666666666666666,
          14.685714285714283,
          16.3,
          16.75,
          17.244444444444444,
          17.67142857142857,
          17.8,
          17.885714285714286,
          19.575,
          22.625,
          22.9,
          22.91818181818182,
          23.600000000000005,
          24.14545454545454,
          24.3625,
          24.866666666666667,
          26.681818181818183,
          29.75555555555555,
          29.933333333333334,
          30.871428571428567,
          31.98333333333333,
          33.737500000000004,
          42.8,
          42.977777777777774,
          46.26666666666666
         ],
         "xaxis": "x",
         "y": [
          "REPUBLIC OF MOLDOVA (THE)",
          "STATE OF PALESTINE",
          "TUNISIA",
          "UKRAINE",
          "KYRGYZSTAN",
          "MONGOLIA",
          "ESWATINI",
          "MOROCCO",
          "UZBEKISTAN",
          "NICARAGUA",
          "BOLIVIA (PLURINATIONAL STATE OF)",
          "EL SALVADOR",
          "EGYPT",
          "ZIMBABWE",
          "SAO TOME AND PRINCIPE",
          "VANUATU",
          "CABO VERDE",
          "CONGO (THE)",
          "KIRIBATI",
          "HONDURAS",
          "LESOTHO",
          "SOLOMON ISLANDS",
          "CAMEROON",
          "SENEGAL",
          "KENYA",
          "GHANA",
          "COTE D'IVOIRE",
          "BHUTAN",
          "ZAMBIA",
          "COMOROS (THE)",
          "DJIBOUTI",
          "PAPUA NEW GUINEA",
          "VIET NAM",
          "ANGOLA",
          "PHILIPPINES (THE)",
          "INDONESIA",
          "MAURITANIA",
          "NIGERIA",
          "MYANMAR",
          "SUDAN (THE)",
          "LAO PEOPLE'S DEMOCRATIC REP. (THE)",
          "CAMBODIA",
          "PAKISTAN",
          "TIMOR-LESTE",
          "INDIA",
          "BANGLADESH"
         ],
         "yaxis": "y"
        },
        {
         "hovertemplate": "Income Classification=2.0<br>Underweight=%{x}<br>Country=%{y}<extra></extra>",
         "legendgroup": "2.0",
         "marker": {
          "color": "#1CA71C",
          "symbol": "circle"
         },
         "mode": "markers",
         "name": "2.0",
         "orientation": "h",
         "showlegend": true,
         "type": "scatter",
         "x": [
          1.3,
          1.6,
          1.6,
          1.6666666666666667,
          1.7333333333333334,
          1.9,
          2,
          2.0666666666666664,
          2.2375000000000003,
          2.45,
          2.466666666666667,
          2.525,
          2.6,
          2.8,
          3.4,
          3.4800000000000004,
          3.5,
          3.76,
          3.85,
          3.88,
          3.925,
          3.955000000000001,
          4.242857142857143,
          4.320000000000001,
          4.8,
          4.842857142857143,
          5.1625,
          5.300000000000001,
          5.8571428571428585,
          6.1,
          6.525,
          7.166666666666667,
          7.3428571428571425,
          7.633333333333333,
          7.7,
          7.7,
          7.900000000000001,
          8,
          8.083333333333334,
          8.133333333333335,
          8.316666666666666,
          8.500000000000002,
          9.714285714285715,
          11.383333333333336,
          11.425,
          11.9,
          12.466666666666669,
          12.666666666666666,
          17.05,
          18.05,
          18.14,
          19.057142857142853,
          26,
          30.32
         ],
         "xaxis": "x",
         "y": [
          "BELARUS",
          "MONTENEGRO",
          "TUVALU",
          "NORTH MACEDONIA",
          "SERBIA",
          "TONGA",
          "BULGARIA",
          "GEORGIA",
          "COSTA RICA",
          "SAMOA",
          "BOSNIA AND HERZEGOVINA",
          "PARAGUAY",
          "ARGENTINA",
          "SAINT LUCIA",
          "CUBA",
          "ARMENIA",
          "JORDAN",
          "KAZAKHSTAN",
          "LEBANON",
          "ROMANIA",
          "BRAZIL",
          "JAMAICA",
          "VENEZUELA (BOLIVARIAN REPUBLIC OF)",
          "PERU",
          "NAURU",
          "TURKEY",
          "DOMINICAN REPUBLIC (THE)",
          "BELIZE",
          "COLOMBIA",
          "FIJI",
          "MEXICO",
          "LIBYA",
          "ALGERIA",
          "TURKMENISTAN",
          "ALBANIA",
          "GABON",
          "CHINA",
          "IRAN (ISLAMIC REPUBLIC OF)",
          "AZERBAIJAN",
          "SURINAME",
          "ECUADOR",
          "IRAQ",
          "SOUTH AFRICA",
          "GUYANA",
          "EQUATORIAL GUINEA",
          "MARSHALL ISLANDS",
          "THAILAND",
          "BOTSWANA",
          "MAURITIUS",
          "NAMIBIA",
          "MALAYSIA",
          "GUATEMALA",
          "SRI LANKA",
          "MALDIVES"
         ],
         "yaxis": "y"
        },
        {
         "hovertemplate": "Income Classification=3.0<br>Underweight=%{x}<br>Country=%{y}<extra></extra>",
         "legendgroup": "3.0",
         "marker": {
          "color": "#FB0D0D",
          "symbol": "circle"
         },
         "mode": "markers",
         "name": "3.0",
         "orientation": "h",
         "showlegend": true,
         "type": "scatter",
         "x": [
          0.1,
          0.7466666666666666,
          0.8,
          0.8,
          0.8800000000000001,
          1.5,
          2.353333333333333,
          3.3,
          3.4,
          3.5,
          4.3,
          4.733333333333333,
          4.8,
          5.128571428571429,
          5.133333333333334,
          6.949999999999999,
          9.4,
          9.6,
          11.916666666666666,
          null,
          null
         ],
         "xaxis": "x",
         "y": [
          "AUSTRALIA",
          "CHILE",
          "GERMANY",
          "REPUBLIC OF KOREA (THE)",
          "UNITED STATES OF AMERICA (THE)",
          "CZECHIA",
          "KUWAIT",
          "SINGAPORE",
          "JAPAN",
          "BARBADOS",
          "SEYCHELLES",
          "PANAMA",
          "QATAR",
          "URUGUAY",
          "TRINIDAD AND TOBAGO",
          "BAHRAIN",
          "SAUDI ARABIA",
          "BRUNEI DARUSSALAM",
          "OMAN",
          "CANADA",
          "POLAND"
         ],
         "yaxis": "y"
        }
       ],
       "layout": {
        "height": 600,
        "legend": {
         "title": {
          "text": "Income Classification"
         },
         "tracegroupgap": 0
        },
        "margin": {
         "t": 60
        },
        "template": {
         "data": {
          "bar": [
           {
            "error_x": {
             "color": "#2a3f5f"
            },
            "error_y": {
             "color": "#2a3f5f"
            },
            "marker": {
             "line": {
              "color": "#E5ECF6",
              "width": 0.5
             },
             "pattern": {
              "fillmode": "overlay",
              "size": 10,
              "solidity": 0.2
             }
            },
            "type": "bar"
           }
          ],
          "barpolar": [
           {
            "marker": {
             "line": {
              "color": "#E5ECF6",
              "width": 0.5
             },
             "pattern": {
              "fillmode": "overlay",
              "size": 10,
              "solidity": 0.2
             }
            },
            "type": "barpolar"
           }
          ],
          "carpet": [
           {
            "aaxis": {
             "endlinecolor": "#2a3f5f",
             "gridcolor": "white",
             "linecolor": "white",
             "minorgridcolor": "white",
             "startlinecolor": "#2a3f5f"
            },
            "baxis": {
             "endlinecolor": "#2a3f5f",
             "gridcolor": "white",
             "linecolor": "white",
             "minorgridcolor": "white",
             "startlinecolor": "#2a3f5f"
            },
            "type": "carpet"
           }
          ],
          "choropleth": [
           {
            "colorbar": {
             "outlinewidth": 0,
             "ticks": ""
            },
            "type": "choropleth"
           }
          ],
          "contour": [
           {
            "colorbar": {
             "outlinewidth": 0,
             "ticks": ""
            },
            "colorscale": [
             [
              0,
              "#0d0887"
             ],
             [
              0.1111111111111111,
              "#46039f"
             ],
             [
              0.2222222222222222,
              "#7201a8"
             ],
             [
              0.3333333333333333,
              "#9c179e"
             ],
             [
              0.4444444444444444,
              "#bd3786"
             ],
             [
              0.5555555555555556,
              "#d8576b"
             ],
             [
              0.6666666666666666,
              "#ed7953"
             ],
             [
              0.7777777777777778,
              "#fb9f3a"
             ],
             [
              0.8888888888888888,
              "#fdca26"
             ],
             [
              1,
              "#f0f921"
             ]
            ],
            "type": "contour"
           }
          ],
          "contourcarpet": [
           {
            "colorbar": {
             "outlinewidth": 0,
             "ticks": ""
            },
            "type": "contourcarpet"
           }
          ],
          "heatmap": [
           {
            "colorbar": {
             "outlinewidth": 0,
             "ticks": ""
            },
            "colorscale": [
             [
              0,
              "#0d0887"
             ],
             [
              0.1111111111111111,
              "#46039f"
             ],
             [
              0.2222222222222222,
              "#7201a8"
             ],
             [
              0.3333333333333333,
              "#9c179e"
             ],
             [
              0.4444444444444444,
              "#bd3786"
             ],
             [
              0.5555555555555556,
              "#d8576b"
             ],
             [
              0.6666666666666666,
              "#ed7953"
             ],
             [
              0.7777777777777778,
              "#fb9f3a"
             ],
             [
              0.8888888888888888,
              "#fdca26"
             ],
             [
              1,
              "#f0f921"
             ]
            ],
            "type": "heatmap"
           }
          ],
          "heatmapgl": [
           {
            "colorbar": {
             "outlinewidth": 0,
             "ticks": ""
            },
            "colorscale": [
             [
              0,
              "#0d0887"
             ],
             [
              0.1111111111111111,
              "#46039f"
             ],
             [
              0.2222222222222222,
              "#7201a8"
             ],
             [
              0.3333333333333333,
              "#9c179e"
             ],
             [
              0.4444444444444444,
              "#bd3786"
             ],
             [
              0.5555555555555556,
              "#d8576b"
             ],
             [
              0.6666666666666666,
              "#ed7953"
             ],
             [
              0.7777777777777778,
              "#fb9f3a"
             ],
             [
              0.8888888888888888,
              "#fdca26"
             ],
             [
              1,
              "#f0f921"
             ]
            ],
            "type": "heatmapgl"
           }
          ],
          "histogram": [
           {
            "marker": {
             "pattern": {
              "fillmode": "overlay",
              "size": 10,
              "solidity": 0.2
             }
            },
            "type": "histogram"
           }
          ],
          "histogram2d": [
           {
            "colorbar": {
             "outlinewidth": 0,
             "ticks": ""
            },
            "colorscale": [
             [
              0,
              "#0d0887"
             ],
             [
              0.1111111111111111,
              "#46039f"
             ],
             [
              0.2222222222222222,
              "#7201a8"
             ],
             [
              0.3333333333333333,
              "#9c179e"
             ],
             [
              0.4444444444444444,
              "#bd3786"
             ],
             [
              0.5555555555555556,
              "#d8576b"
             ],
             [
              0.6666666666666666,
              "#ed7953"
             ],
             [
              0.7777777777777778,
              "#fb9f3a"
             ],
             [
              0.8888888888888888,
              "#fdca26"
             ],
             [
              1,
              "#f0f921"
             ]
            ],
            "type": "histogram2d"
           }
          ],
          "histogram2dcontour": [
           {
            "colorbar": {
             "outlinewidth": 0,
             "ticks": ""
            },
            "colorscale": [
             [
              0,
              "#0d0887"
             ],
             [
              0.1111111111111111,
              "#46039f"
             ],
             [
              0.2222222222222222,
              "#7201a8"
             ],
             [
              0.3333333333333333,
              "#9c179e"
             ],
             [
              0.4444444444444444,
              "#bd3786"
             ],
             [
              0.5555555555555556,
              "#d8576b"
             ],
             [
              0.6666666666666666,
              "#ed7953"
             ],
             [
              0.7777777777777778,
              "#fb9f3a"
             ],
             [
              0.8888888888888888,
              "#fdca26"
             ],
             [
              1,
              "#f0f921"
             ]
            ],
            "type": "histogram2dcontour"
           }
          ],
          "mesh3d": [
           {
            "colorbar": {
             "outlinewidth": 0,
             "ticks": ""
            },
            "type": "mesh3d"
           }
          ],
          "parcoords": [
           {
            "line": {
             "colorbar": {
              "outlinewidth": 0,
              "ticks": ""
             }
            },
            "type": "parcoords"
           }
          ],
          "pie": [
           {
            "automargin": true,
            "type": "pie"
           }
          ],
          "scatter": [
           {
            "marker": {
             "colorbar": {
              "outlinewidth": 0,
              "ticks": ""
             }
            },
            "type": "scatter"
           }
          ],
          "scatter3d": [
           {
            "line": {
             "colorbar": {
              "outlinewidth": 0,
              "ticks": ""
             }
            },
            "marker": {
             "colorbar": {
              "outlinewidth": 0,
              "ticks": ""
             }
            },
            "type": "scatter3d"
           }
          ],
          "scattercarpet": [
           {
            "marker": {
             "colorbar": {
              "outlinewidth": 0,
              "ticks": ""
             }
            },
            "type": "scattercarpet"
           }
          ],
          "scattergeo": [
           {
            "marker": {
             "colorbar": {
              "outlinewidth": 0,
              "ticks": ""
             }
            },
            "type": "scattergeo"
           }
          ],
          "scattergl": [
           {
            "marker": {
             "colorbar": {
              "outlinewidth": 0,
              "ticks": ""
             }
            },
            "type": "scattergl"
           }
          ],
          "scattermapbox": [
           {
            "marker": {
             "colorbar": {
              "outlinewidth": 0,
              "ticks": ""
             }
            },
            "type": "scattermapbox"
           }
          ],
          "scatterpolar": [
           {
            "marker": {
             "colorbar": {
              "outlinewidth": 0,
              "ticks": ""
             }
            },
            "type": "scatterpolar"
           }
          ],
          "scatterpolargl": [
           {
            "marker": {
             "colorbar": {
              "outlinewidth": 0,
              "ticks": ""
             }
            },
            "type": "scatterpolargl"
           }
          ],
          "scatterternary": [
           {
            "marker": {
             "colorbar": {
              "outlinewidth": 0,
              "ticks": ""
             }
            },
            "type": "scatterternary"
           }
          ],
          "surface": [
           {
            "colorbar": {
             "outlinewidth": 0,
             "ticks": ""
            },
            "colorscale": [
             [
              0,
              "#0d0887"
             ],
             [
              0.1111111111111111,
              "#46039f"
             ],
             [
              0.2222222222222222,
              "#7201a8"
             ],
             [
              0.3333333333333333,
              "#9c179e"
             ],
             [
              0.4444444444444444,
              "#bd3786"
             ],
             [
              0.5555555555555556,
              "#d8576b"
             ],
             [
              0.6666666666666666,
              "#ed7953"
             ],
             [
              0.7777777777777778,
              "#fb9f3a"
             ],
             [
              0.8888888888888888,
              "#fdca26"
             ],
             [
              1,
              "#f0f921"
             ]
            ],
            "type": "surface"
           }
          ],
          "table": [
           {
            "cells": {
             "fill": {
              "color": "#EBF0F8"
             },
             "line": {
              "color": "white"
             }
            },
            "header": {
             "fill": {
              "color": "#C8D4E3"
             },
             "line": {
              "color": "white"
             }
            },
            "type": "table"
           }
          ]
         },
         "layout": {
          "annotationdefaults": {
           "arrowcolor": "#2a3f5f",
           "arrowhead": 0,
           "arrowwidth": 1
          },
          "autotypenumbers": "strict",
          "coloraxis": {
           "colorbar": {
            "outlinewidth": 0,
            "ticks": ""
           }
          },
          "colorscale": {
           "diverging": [
            [
             0,
             "#8e0152"
            ],
            [
             0.1,
             "#c51b7d"
            ],
            [
             0.2,
             "#de77ae"
            ],
            [
             0.3,
             "#f1b6da"
            ],
            [
             0.4,
             "#fde0ef"
            ],
            [
             0.5,
             "#f7f7f7"
            ],
            [
             0.6,
             "#e6f5d0"
            ],
            [
             0.7,
             "#b8e186"
            ],
            [
             0.8,
             "#7fbc41"
            ],
            [
             0.9,
             "#4d9221"
            ],
            [
             1,
             "#276419"
            ]
           ],
           "sequential": [
            [
             0,
             "#0d0887"
            ],
            [
             0.1111111111111111,
             "#46039f"
            ],
            [
             0.2222222222222222,
             "#7201a8"
            ],
            [
             0.3333333333333333,
             "#9c179e"
            ],
            [
             0.4444444444444444,
             "#bd3786"
            ],
            [
             0.5555555555555556,
             "#d8576b"
            ],
            [
             0.6666666666666666,
             "#ed7953"
            ],
            [
             0.7777777777777778,
             "#fb9f3a"
            ],
            [
             0.8888888888888888,
             "#fdca26"
            ],
            [
             1,
             "#f0f921"
            ]
           ],
           "sequentialminus": [
            [
             0,
             "#0d0887"
            ],
            [
             0.1111111111111111,
             "#46039f"
            ],
            [
             0.2222222222222222,
             "#7201a8"
            ],
            [
             0.3333333333333333,
             "#9c179e"
            ],
            [
             0.4444444444444444,
             "#bd3786"
            ],
            [
             0.5555555555555556,
             "#d8576b"
            ],
            [
             0.6666666666666666,
             "#ed7953"
            ],
            [
             0.7777777777777778,
             "#fb9f3a"
            ],
            [
             0.8888888888888888,
             "#fdca26"
            ],
            [
             1,
             "#f0f921"
            ]
           ]
          },
          "colorway": [
           "#636efa",
           "#EF553B",
           "#00cc96",
           "#ab63fa",
           "#FFA15A",
           "#19d3f3",
           "#FF6692",
           "#B6E880",
           "#FF97FF",
           "#FECB52"
          ],
          "font": {
           "color": "#2a3f5f"
          },
          "geo": {
           "bgcolor": "white",
           "lakecolor": "white",
           "landcolor": "#E5ECF6",
           "showlakes": true,
           "showland": true,
           "subunitcolor": "white"
          },
          "hoverlabel": {
           "align": "left"
          },
          "hovermode": "closest",
          "mapbox": {
           "style": "light"
          },
          "paper_bgcolor": "white",
          "plot_bgcolor": "#E5ECF6",
          "polar": {
           "angularaxis": {
            "gridcolor": "white",
            "linecolor": "white",
            "ticks": ""
           },
           "bgcolor": "#E5ECF6",
           "radialaxis": {
            "gridcolor": "white",
            "linecolor": "white",
            "ticks": ""
           }
          },
          "scene": {
           "xaxis": {
            "backgroundcolor": "#E5ECF6",
            "gridcolor": "white",
            "gridwidth": 2,
            "linecolor": "white",
            "showbackground": true,
            "ticks": "",
            "zerolinecolor": "white"
           },
           "yaxis": {
            "backgroundcolor": "#E5ECF6",
            "gridcolor": "white",
            "gridwidth": 2,
            "linecolor": "white",
            "showbackground": true,
            "ticks": "",
            "zerolinecolor": "white"
           },
           "zaxis": {
            "backgroundcolor": "#E5ECF6",
            "gridcolor": "white",
            "gridwidth": 2,
            "linecolor": "white",
            "showbackground": true,
            "ticks": "",
            "zerolinecolor": "white"
           }
          },
          "shapedefaults": {
           "line": {
            "color": "#2a3f5f"
           }
          },
          "ternary": {
           "aaxis": {
            "gridcolor": "white",
            "linecolor": "white",
            "ticks": ""
           },
           "baxis": {
            "gridcolor": "white",
            "linecolor": "white",
            "ticks": ""
           },
           "bgcolor": "#E5ECF6",
           "caxis": {
            "gridcolor": "white",
            "linecolor": "white",
            "ticks": ""
           }
          },
          "title": {
           "x": 0.05
          },
          "xaxis": {
           "automargin": true,
           "gridcolor": "white",
           "linecolor": "white",
           "ticks": "",
           "title": {
            "standoff": 15
           },
           "zerolinecolor": "white",
           "zerolinewidth": 2
          },
          "yaxis": {
           "automargin": true,
           "gridcolor": "white",
           "linecolor": "white",
           "ticks": "",
           "title": {
            "standoff": 15
           },
           "zerolinecolor": "white",
           "zerolinewidth": 2
          }
         }
        },
        "width": 1000,
        "xaxis": {
         "anchor": "y",
         "domain": [
          0,
          1
         ],
         "title": {
          "text": "Underweight"
         }
        },
        "yaxis": {
         "anchor": "x",
         "domain": [
          0,
          1
         ],
         "title": {
          "text": "Country"
         }
        }
       }
      },
      "text/html": [
       "<div>                            <div id=\"11ab8b47-722c-4ff6-8f03-53cdcc81874d\" class=\"plotly-graph-div\" style=\"height:600px; width:1000px;\"></div>            <script type=\"text/javascript\">                require([\"plotly\"], function(Plotly) {                    window.PLOTLYENV=window.PLOTLYENV || {};                                    if (document.getElementById(\"11ab8b47-722c-4ff6-8f03-53cdcc81874d\")) {                    Plotly.newPlot(                        \"11ab8b47-722c-4ff6-8f03-53cdcc81874d\",                        [{\"hovertemplate\":\"Income Classification=0.0<br>Underweight=%{x}<br>Country=%{y}<extra></extra>\",\"legendgroup\":\"0.0\",\"marker\":{\"color\":\"#2E91E5\",\"symbol\":\"circle\"},\"mode\":\"markers\",\"name\":\"0.0\",\"orientation\":\"h\",\"showlegend\":true,\"x\":[10.05,10.933333333333332,15.533333333333337,15.88888888888889,16.300000000000004,16.9,17.40666666666667,17.727272727272723,17.740000000000002,18.05,18.93333333333333,19.262500000000003,20.125,20.39,20.75714285714286,23.12857142857143,23.36666666666667,25.076923076923077,26.03333333333333,26.67142857142857,26.84,30.1,30.375,31.057142857142853,31.4,32.25,34.31428571428571,36.95,37.55,37.78571428571428,38.263636363636365],\"xaxis\":\"x\",\"y\":[\"SYRIAN ARAB REPUBLIC (THE)\",\"TAJIKISTAN\",\"UGANDA\",\"RWANDA\",\"GAMBIA (THE)\",\"HAITI\",\"MALAWI\",\"UNITED REPUBLIC OF TANZANIA (THE)\",\"LIBERIA\",\"GUINEA-BISSAU\",\"TOGO\",\"GUINEA\",\"BENIN\",\"SIERRA LEONE\",\"MOZAMBIQUE\",\"DEMOCRATIC PEOPLE'S REP. OF KOREA (THE)\",\"CENTRAL AFRICAN REPUBLIC (THE)\",\"BURKINA FASO\",\"SOMALIA\",\"MALI\",\"DEMOCRATIC REP. OF THE CONGO (THE)\",\"SOUTH SUDAN\",\"AFGHANISTAN\",\"ETHIOPIA\",\"CHAD\",\"BURUNDI\",\"MADAGASCAR\",\"NEPAL\",\"ERITREA\",\"YEMEN\",\"NIGER (THE)\"],\"yaxis\":\"y\",\"type\":\"scatter\"},{\"hovertemplate\":\"Income Classification=1.0<br>Underweight=%{x}<br>Country=%{y}<extra></extra>\",\"legendgroup\":\"1.0\",\"marker\":{\"color\":\"#E15F99\",\"symbol\":\"circle\"},\"mode\":\"markers\",\"name\":\"1.0\",\"orientation\":\"h\",\"showlegend\":true,\"x\":[2.7,2.92,3.65,4.1,4.366666666666667,5.911111111111111,6.819999999999999,6.916666666666667,7.0,7.033333333333334,7.472727272727273,7.766666666666667,8.639999999999999,10.71,11.26,11.266666666666666,12.75,13.099999999999998,13.2,13.785714285714286,14.085714285714287,14.666666666666666,14.685714285714283,16.3,16.75,17.244444444444444,17.67142857142857,17.8,17.885714285714286,19.575,22.625,22.9,22.91818181818182,23.600000000000005,24.14545454545454,24.3625,24.866666666666667,26.681818181818183,29.75555555555555,29.933333333333334,30.871428571428567,31.98333333333333,33.737500000000004,42.8,42.977777777777774,46.26666666666666],\"xaxis\":\"x\",\"y\":[\"REPUBLIC OF MOLDOVA (THE)\",\"STATE OF PALESTINE\",\"TUNISIA\",\"UKRAINE\",\"KYRGYZSTAN\",\"MONGOLIA\",\"ESWATINI\",\"MOROCCO\",\"UZBEKISTAN\",\"NICARAGUA\",\"BOLIVIA (PLURINATIONAL STATE OF)\",\"EL SALVADOR\",\"EGYPT\",\"ZIMBABWE\",\"SAO TOME AND PRINCIPE\",\"VANUATU\",\"CABO VERDE\",\"CONGO (THE)\",\"KIRIBATI\",\"HONDURAS\",\"LESOTHO\",\"SOLOMON ISLANDS\",\"CAMEROON\",\"SENEGAL\",\"KENYA\",\"GHANA\",\"COTE D'IVOIRE\",\"BHUTAN\",\"ZAMBIA\",\"COMOROS (THE)\",\"DJIBOUTI\",\"PAPUA NEW GUINEA\",\"VIET NAM\",\"ANGOLA\",\"PHILIPPINES (THE)\",\"INDONESIA\",\"MAURITANIA\",\"NIGERIA\",\"MYANMAR\",\"SUDAN (THE)\",\"LAO PEOPLE'S DEMOCRATIC REP. (THE)\",\"CAMBODIA\",\"PAKISTAN\",\"TIMOR-LESTE\",\"INDIA\",\"BANGLADESH\"],\"yaxis\":\"y\",\"type\":\"scatter\"},{\"hovertemplate\":\"Income Classification=2.0<br>Underweight=%{x}<br>Country=%{y}<extra></extra>\",\"legendgroup\":\"2.0\",\"marker\":{\"color\":\"#1CA71C\",\"symbol\":\"circle\"},\"mode\":\"markers\",\"name\":\"2.0\",\"orientation\":\"h\",\"showlegend\":true,\"x\":[1.3,1.6,1.6,1.6666666666666667,1.7333333333333334,1.9,2.0,2.0666666666666664,2.2375000000000003,2.45,2.466666666666667,2.525,2.6,2.8,3.4,3.4800000000000004,3.5,3.76,3.85,3.88,3.925,3.955000000000001,4.242857142857143,4.320000000000001,4.8,4.842857142857143,5.1625,5.300000000000001,5.8571428571428585,6.1,6.525,7.166666666666667,7.3428571428571425,7.633333333333333,7.7,7.7,7.900000000000001,8.0,8.083333333333334,8.133333333333335,8.316666666666666,8.500000000000002,9.714285714285715,11.383333333333336,11.425,11.9,12.466666666666669,12.666666666666666,17.05,18.05,18.14,19.057142857142853,26.0,30.32],\"xaxis\":\"x\",\"y\":[\"BELARUS\",\"MONTENEGRO\",\"TUVALU\",\"NORTH MACEDONIA\",\"SERBIA\",\"TONGA\",\"BULGARIA\",\"GEORGIA\",\"COSTA RICA\",\"SAMOA\",\"BOSNIA AND HERZEGOVINA\",\"PARAGUAY\",\"ARGENTINA\",\"SAINT LUCIA\",\"CUBA\",\"ARMENIA\",\"JORDAN\",\"KAZAKHSTAN\",\"LEBANON\",\"ROMANIA\",\"BRAZIL\",\"JAMAICA\",\"VENEZUELA (BOLIVARIAN REPUBLIC OF)\",\"PERU\",\"NAURU\",\"TURKEY\",\"DOMINICAN REPUBLIC (THE)\",\"BELIZE\",\"COLOMBIA\",\"FIJI\",\"MEXICO\",\"LIBYA\",\"ALGERIA\",\"TURKMENISTAN\",\"ALBANIA\",\"GABON\",\"CHINA\",\"IRAN (ISLAMIC REPUBLIC OF)\",\"AZERBAIJAN\",\"SURINAME\",\"ECUADOR\",\"IRAQ\",\"SOUTH AFRICA\",\"GUYANA\",\"EQUATORIAL GUINEA\",\"MARSHALL ISLANDS\",\"THAILAND\",\"BOTSWANA\",\"MAURITIUS\",\"NAMIBIA\",\"MALAYSIA\",\"GUATEMALA\",\"SRI LANKA\",\"MALDIVES\"],\"yaxis\":\"y\",\"type\":\"scatter\"},{\"hovertemplate\":\"Income Classification=3.0<br>Underweight=%{x}<br>Country=%{y}<extra></extra>\",\"legendgroup\":\"3.0\",\"marker\":{\"color\":\"#FB0D0D\",\"symbol\":\"circle\"},\"mode\":\"markers\",\"name\":\"3.0\",\"orientation\":\"h\",\"showlegend\":true,\"x\":[0.1,0.7466666666666666,0.8,0.8,0.8800000000000001,1.5,2.353333333333333,3.3,3.4,3.5,4.3,4.733333333333333,4.8,5.128571428571429,5.133333333333334,6.949999999999999,9.4,9.6,11.916666666666666,null,null],\"xaxis\":\"x\",\"y\":[\"AUSTRALIA\",\"CHILE\",\"GERMANY\",\"REPUBLIC OF KOREA (THE)\",\"UNITED STATES OF AMERICA (THE)\",\"CZECHIA\",\"KUWAIT\",\"SINGAPORE\",\"JAPAN\",\"BARBADOS\",\"SEYCHELLES\",\"PANAMA\",\"QATAR\",\"URUGUAY\",\"TRINIDAD AND TOBAGO\",\"BAHRAIN\",\"SAUDI ARABIA\",\"BRUNEI DARUSSALAM\",\"OMAN\",\"CANADA\",\"POLAND\"],\"yaxis\":\"y\",\"type\":\"scatter\"}],                        {\"template\":{\"data\":{\"bar\":[{\"error_x\":{\"color\":\"#2a3f5f\"},\"error_y\":{\"color\":\"#2a3f5f\"},\"marker\":{\"line\":{\"color\":\"#E5ECF6\",\"width\":0.5},\"pattern\":{\"fillmode\":\"overlay\",\"size\":10,\"solidity\":0.2}},\"type\":\"bar\"}],\"barpolar\":[{\"marker\":{\"line\":{\"color\":\"#E5ECF6\",\"width\":0.5},\"pattern\":{\"fillmode\":\"overlay\",\"size\":10,\"solidity\":0.2}},\"type\":\"barpolar\"}],\"carpet\":[{\"aaxis\":{\"endlinecolor\":\"#2a3f5f\",\"gridcolor\":\"white\",\"linecolor\":\"white\",\"minorgridcolor\":\"white\",\"startlinecolor\":\"#2a3f5f\"},\"baxis\":{\"endlinecolor\":\"#2a3f5f\",\"gridcolor\":\"white\",\"linecolor\":\"white\",\"minorgridcolor\":\"white\",\"startlinecolor\":\"#2a3f5f\"},\"type\":\"carpet\"}],\"choropleth\":[{\"colorbar\":{\"outlinewidth\":0,\"ticks\":\"\"},\"type\":\"choropleth\"}],\"contour\":[{\"colorbar\":{\"outlinewidth\":0,\"ticks\":\"\"},\"colorscale\":[[0.0,\"#0d0887\"],[0.1111111111111111,\"#46039f\"],[0.2222222222222222,\"#7201a8\"],[0.3333333333333333,\"#9c179e\"],[0.4444444444444444,\"#bd3786\"],[0.5555555555555556,\"#d8576b\"],[0.6666666666666666,\"#ed7953\"],[0.7777777777777778,\"#fb9f3a\"],[0.8888888888888888,\"#fdca26\"],[1.0,\"#f0f921\"]],\"type\":\"contour\"}],\"contourcarpet\":[{\"colorbar\":{\"outlinewidth\":0,\"ticks\":\"\"},\"type\":\"contourcarpet\"}],\"heatmap\":[{\"colorbar\":{\"outlinewidth\":0,\"ticks\":\"\"},\"colorscale\":[[0.0,\"#0d0887\"],[0.1111111111111111,\"#46039f\"],[0.2222222222222222,\"#7201a8\"],[0.3333333333333333,\"#9c179e\"],[0.4444444444444444,\"#bd3786\"],[0.5555555555555556,\"#d8576b\"],[0.6666666666666666,\"#ed7953\"],[0.7777777777777778,\"#fb9f3a\"],[0.8888888888888888,\"#fdca26\"],[1.0,\"#f0f921\"]],\"type\":\"heatmap\"}],\"heatmapgl\":[{\"colorbar\":{\"outlinewidth\":0,\"ticks\":\"\"},\"colorscale\":[[0.0,\"#0d0887\"],[0.1111111111111111,\"#46039f\"],[0.2222222222222222,\"#7201a8\"],[0.3333333333333333,\"#9c179e\"],[0.4444444444444444,\"#bd3786\"],[0.5555555555555556,\"#d8576b\"],[0.6666666666666666,\"#ed7953\"],[0.7777777777777778,\"#fb9f3a\"],[0.8888888888888888,\"#fdca26\"],[1.0,\"#f0f921\"]],\"type\":\"heatmapgl\"}],\"histogram\":[{\"marker\":{\"pattern\":{\"fillmode\":\"overlay\",\"size\":10,\"solidity\":0.2}},\"type\":\"histogram\"}],\"histogram2d\":[{\"colorbar\":{\"outlinewidth\":0,\"ticks\":\"\"},\"colorscale\":[[0.0,\"#0d0887\"],[0.1111111111111111,\"#46039f\"],[0.2222222222222222,\"#7201a8\"],[0.3333333333333333,\"#9c179e\"],[0.4444444444444444,\"#bd3786\"],[0.5555555555555556,\"#d8576b\"],[0.6666666666666666,\"#ed7953\"],[0.7777777777777778,\"#fb9f3a\"],[0.8888888888888888,\"#fdca26\"],[1.0,\"#f0f921\"]],\"type\":\"histogram2d\"}],\"histogram2dcontour\":[{\"colorbar\":{\"outlinewidth\":0,\"ticks\":\"\"},\"colorscale\":[[0.0,\"#0d0887\"],[0.1111111111111111,\"#46039f\"],[0.2222222222222222,\"#7201a8\"],[0.3333333333333333,\"#9c179e\"],[0.4444444444444444,\"#bd3786\"],[0.5555555555555556,\"#d8576b\"],[0.6666666666666666,\"#ed7953\"],[0.7777777777777778,\"#fb9f3a\"],[0.8888888888888888,\"#fdca26\"],[1.0,\"#f0f921\"]],\"type\":\"histogram2dcontour\"}],\"mesh3d\":[{\"colorbar\":{\"outlinewidth\":0,\"ticks\":\"\"},\"type\":\"mesh3d\"}],\"parcoords\":[{\"line\":{\"colorbar\":{\"outlinewidth\":0,\"ticks\":\"\"}},\"type\":\"parcoords\"}],\"pie\":[{\"automargin\":true,\"type\":\"pie\"}],\"scatter\":[{\"marker\":{\"colorbar\":{\"outlinewidth\":0,\"ticks\":\"\"}},\"type\":\"scatter\"}],\"scatter3d\":[{\"line\":{\"colorbar\":{\"outlinewidth\":0,\"ticks\":\"\"}},\"marker\":{\"colorbar\":{\"outlinewidth\":0,\"ticks\":\"\"}},\"type\":\"scatter3d\"}],\"scattercarpet\":[{\"marker\":{\"colorbar\":{\"outlinewidth\":0,\"ticks\":\"\"}},\"type\":\"scattercarpet\"}],\"scattergeo\":[{\"marker\":{\"colorbar\":{\"outlinewidth\":0,\"ticks\":\"\"}},\"type\":\"scattergeo\"}],\"scattergl\":[{\"marker\":{\"colorbar\":{\"outlinewidth\":0,\"ticks\":\"\"}},\"type\":\"scattergl\"}],\"scattermapbox\":[{\"marker\":{\"colorbar\":{\"outlinewidth\":0,\"ticks\":\"\"}},\"type\":\"scattermapbox\"}],\"scatterpolar\":[{\"marker\":{\"colorbar\":{\"outlinewidth\":0,\"ticks\":\"\"}},\"type\":\"scatterpolar\"}],\"scatterpolargl\":[{\"marker\":{\"colorbar\":{\"outlinewidth\":0,\"ticks\":\"\"}},\"type\":\"scatterpolargl\"}],\"scatterternary\":[{\"marker\":{\"colorbar\":{\"outlinewidth\":0,\"ticks\":\"\"}},\"type\":\"scatterternary\"}],\"surface\":[{\"colorbar\":{\"outlinewidth\":0,\"ticks\":\"\"},\"colorscale\":[[0.0,\"#0d0887\"],[0.1111111111111111,\"#46039f\"],[0.2222222222222222,\"#7201a8\"],[0.3333333333333333,\"#9c179e\"],[0.4444444444444444,\"#bd3786\"],[0.5555555555555556,\"#d8576b\"],[0.6666666666666666,\"#ed7953\"],[0.7777777777777778,\"#fb9f3a\"],[0.8888888888888888,\"#fdca26\"],[1.0,\"#f0f921\"]],\"type\":\"surface\"}],\"table\":[{\"cells\":{\"fill\":{\"color\":\"#EBF0F8\"},\"line\":{\"color\":\"white\"}},\"header\":{\"fill\":{\"color\":\"#C8D4E3\"},\"line\":{\"color\":\"white\"}},\"type\":\"table\"}]},\"layout\":{\"annotationdefaults\":{\"arrowcolor\":\"#2a3f5f\",\"arrowhead\":0,\"arrowwidth\":1},\"autotypenumbers\":\"strict\",\"coloraxis\":{\"colorbar\":{\"outlinewidth\":0,\"ticks\":\"\"}},\"colorscale\":{\"diverging\":[[0,\"#8e0152\"],[0.1,\"#c51b7d\"],[0.2,\"#de77ae\"],[0.3,\"#f1b6da\"],[0.4,\"#fde0ef\"],[0.5,\"#f7f7f7\"],[0.6,\"#e6f5d0\"],[0.7,\"#b8e186\"],[0.8,\"#7fbc41\"],[0.9,\"#4d9221\"],[1,\"#276419\"]],\"sequential\":[[0.0,\"#0d0887\"],[0.1111111111111111,\"#46039f\"],[0.2222222222222222,\"#7201a8\"],[0.3333333333333333,\"#9c179e\"],[0.4444444444444444,\"#bd3786\"],[0.5555555555555556,\"#d8576b\"],[0.6666666666666666,\"#ed7953\"],[0.7777777777777778,\"#fb9f3a\"],[0.8888888888888888,\"#fdca26\"],[1.0,\"#f0f921\"]],\"sequentialminus\":[[0.0,\"#0d0887\"],[0.1111111111111111,\"#46039f\"],[0.2222222222222222,\"#7201a8\"],[0.3333333333333333,\"#9c179e\"],[0.4444444444444444,\"#bd3786\"],[0.5555555555555556,\"#d8576b\"],[0.6666666666666666,\"#ed7953\"],[0.7777777777777778,\"#fb9f3a\"],[0.8888888888888888,\"#fdca26\"],[1.0,\"#f0f921\"]]},\"colorway\":[\"#636efa\",\"#EF553B\",\"#00cc96\",\"#ab63fa\",\"#FFA15A\",\"#19d3f3\",\"#FF6692\",\"#B6E880\",\"#FF97FF\",\"#FECB52\"],\"font\":{\"color\":\"#2a3f5f\"},\"geo\":{\"bgcolor\":\"white\",\"lakecolor\":\"white\",\"landcolor\":\"#E5ECF6\",\"showlakes\":true,\"showland\":true,\"subunitcolor\":\"white\"},\"hoverlabel\":{\"align\":\"left\"},\"hovermode\":\"closest\",\"mapbox\":{\"style\":\"light\"},\"paper_bgcolor\":\"white\",\"plot_bgcolor\":\"#E5ECF6\",\"polar\":{\"angularaxis\":{\"gridcolor\":\"white\",\"linecolor\":\"white\",\"ticks\":\"\"},\"bgcolor\":\"#E5ECF6\",\"radialaxis\":{\"gridcolor\":\"white\",\"linecolor\":\"white\",\"ticks\":\"\"}},\"scene\":{\"xaxis\":{\"backgroundcolor\":\"#E5ECF6\",\"gridcolor\":\"white\",\"gridwidth\":2,\"linecolor\":\"white\",\"showbackground\":true,\"ticks\":\"\",\"zerolinecolor\":\"white\"},\"yaxis\":{\"backgroundcolor\":\"#E5ECF6\",\"gridcolor\":\"white\",\"gridwidth\":2,\"linecolor\":\"white\",\"showbackground\":true,\"ticks\":\"\",\"zerolinecolor\":\"white\"},\"zaxis\":{\"backgroundcolor\":\"#E5ECF6\",\"gridcolor\":\"white\",\"gridwidth\":2,\"linecolor\":\"white\",\"showbackground\":true,\"ticks\":\"\",\"zerolinecolor\":\"white\"}},\"shapedefaults\":{\"line\":{\"color\":\"#2a3f5f\"}},\"ternary\":{\"aaxis\":{\"gridcolor\":\"white\",\"linecolor\":\"white\",\"ticks\":\"\"},\"baxis\":{\"gridcolor\":\"white\",\"linecolor\":\"white\",\"ticks\":\"\"},\"bgcolor\":\"#E5ECF6\",\"caxis\":{\"gridcolor\":\"white\",\"linecolor\":\"white\",\"ticks\":\"\"}},\"title\":{\"x\":0.05},\"xaxis\":{\"automargin\":true,\"gridcolor\":\"white\",\"linecolor\":\"white\",\"ticks\":\"\",\"title\":{\"standoff\":15},\"zerolinecolor\":\"white\",\"zerolinewidth\":2},\"yaxis\":{\"automargin\":true,\"gridcolor\":\"white\",\"linecolor\":\"white\",\"ticks\":\"\",\"title\":{\"standoff\":15},\"zerolinecolor\":\"white\",\"zerolinewidth\":2}}},\"xaxis\":{\"anchor\":\"y\",\"domain\":[0.0,1.0],\"title\":{\"text\":\"Underweight\"}},\"yaxis\":{\"anchor\":\"x\",\"domain\":[0.0,1.0],\"title\":{\"text\":\"Country\"}},\"legend\":{\"title\":{\"text\":\"Income Classification\"},\"tracegroupgap\":0},\"margin\":{\"t\":60},\"height\":600,\"width\":1000},                        {\"responsive\": true}                    ).then(function(){\n",
       "                            \n",
       "var gd = document.getElementById('11ab8b47-722c-4ff6-8f03-53cdcc81874d');\n",
       "var x = new MutationObserver(function (mutations, observer) {{\n",
       "        var display = window.getComputedStyle(gd).display;\n",
       "        if (!display || display === 'none') {{\n",
       "            console.log([gd, 'removed!']);\n",
       "            Plotly.purge(gd);\n",
       "            observer.disconnect();\n",
       "        }}\n",
       "}});\n",
       "\n",
       "// Listen for the removal of the full notebook cells\n",
       "var notebookContainer = gd.closest('#notebook-container');\n",
       "if (notebookContainer) {{\n",
       "    x.observe(notebookContainer, {childList: true});\n",
       "}}\n",
       "\n",
       "// Listen for the clearing of the current output cell\n",
       "var outputEl = gd.closest('.output');\n",
       "if (outputEl) {{\n",
       "    x.observe(outputEl, {childList: true});\n",
       "}}\n",
       "\n",
       "                        })                };                });            </script>        </div>"
      ]
     },
     "metadata": {},
     "output_type": "display_data"
    }
   ],
   "source": [
    "Percent_Underweight_per_Country = px.scatter(Data_CWA.sort_values(by=[\"Income Classification\",\"Underweight\"], ascending=[True, True]).reset_index(drop=True), x='Underweight', y='Country',\n",
    "color='Income Classification', height=600,width=1000, color_discrete_sequence=px.colors.qualitative.Dark24)\n",
    "Percent_Underweight_per_Country.show()"
   ]
  },
  {
   "cell_type": "code",
   "execution_count": 11,
   "metadata": {},
   "outputs": [
    {
     "data": {
      "text/plain": [
       "<seaborn.axisgrid.FacetGrid at 0x19cecc1a520>"
      ]
     },
     "execution_count": 11,
     "metadata": {},
     "output_type": "execute_result"
    },
    {
     "data": {
      "image/png": "[encoded data removed]",
      "text/plain": [
       "<Figure size 474.125x360 with 1 Axes>"
      ]
     },
     "metadata": {
      "needs_background": "light"
     },
     "output_type": "display_data"
    }
   ],
   "source": [
    "sns.displot(data=Data_CWA, x=\"Underweight\", hue=\"Income Classification\", multiple=\"stack\", kind=\"kde\")"
   ]
  },
  {
   "cell_type": "markdown",
   "metadata": {},
   "source": [
    "#### This is to determine if percent overweight of the country changes as the income classification increases "
   ]
  },
  {
   "cell_type": "code",
   "execution_count": 12,
   "metadata": {},
   "outputs": [
    {
     "data": {
      "application/vnd.plotly.v1+json": {
       "config": {
        "plotlyServerURL": "https://plot.ly"
       },
       "data": [
        {
         "hovertemplate": "Income Classification=0.0<br>Overweight=%{x}<br>Country=%{y}<extra></extra>",
         "legendgroup": "0.0",
         "marker": {
          "color": "rgb(136, 204, 238)",
          "symbol": "circle"
         },
         "mode": "markers",
         "name": "0.0",
         "orientation": "h",
         "showlegend": true,
         "type": "scatter",
         "x": [
          1.0285714285714287,
          1.0666666666666669,
          1.52,
          1.6666666666666667,
          1.775,
          2.2,
          2.228571428571428,
          2.2500000000000004,
          2.275,
          2.3999999999999995,
          2.5,
          2.75,
          3.0400000000000005,
          3.4799999999999995,
          3.66,
          3.85,
          4.277777777777778,
          4.333333333333333,
          4.540000000000001,
          4.842857142857143,
          5.125,
          5.380000000000001,
          5.75,
          6.116666666666666,
          6.237500000000001,
          6.314285714285715,
          6.566666666666666,
          6.75,
          7.484615384615385,
          8.45,
          17.825000000000003
         ],
         "xaxis": "x",
         "y": [
          "NEPAL",
          "DEMOCRATIC PEOPLE'S REP. OF KOREA (THE)",
          "NIGER (THE)",
          "ERITREA",
          "BURUNDI",
          "MALI",
          "GAMBIA (THE)",
          "BURKINA FASO",
          "BENIN",
          "TOGO",
          "MADAGASCAR",
          "ETHIOPIA",
          "CHAD",
          "LIBERIA",
          "HAITI",
          "SOMALIA",
          "UGANDA",
          "GUINEA",
          "UNITED REPUBLIC OF TANZANIA (THE)",
          "YEMEN",
          "AFGHANISTAN",
          "CENTRAL AFRICAN REPUBLIC (THE)",
          "DEMOCRATIC REP. OF THE CONGO (THE)",
          "TAJIKISTAN",
          "SIERRA LEONE",
          "RWANDA",
          "MOZAMBIQUE",
          "GUINEA-BISSAU",
          "MALAWI",
          "SOUTH SUDAN",
          "SYRIAN ARAB REPUBLIC (THE)"
         ],
         "yaxis": "y"
        },
        {
         "hovertemplate": "Income Classification=1.0<br>Overweight=%{x}<br>Country=%{y}<extra></extra>",
         "legendgroup": "1.0",
         "marker": {
          "color": "rgb(204, 102, 119)",
          "symbol": "circle"
         },
         "mode": "markers",
         "name": "1.0",
         "orientation": "h",
         "showlegend": true,
         "type": "scatter",
         "x": [
          0.9625000000000002,
          2.115384615384615,
          2.4,
          2.55,
          2.6375,
          2.8222222222222224,
          2.9,
          2.9333333333333336,
          2.966666666666667,
          3.033333333333333,
          3.1,
          3.3176470588235287,
          3.65,
          3.9,
          4.3,
          4.62,
          4.75,
          4.757142857142857,
          4.800000000000001,
          4.875,
          4.890909090909092,
          5.1,
          5.788888888888889,
          5.95,
          6.55,
          6.733333333333333,
          6.9,
          7.199999999999999,
          7.228571428571429,
          7.58,
          7.666666666666665,
          8.042857142857143,
          8.25,
          8.6,
          9.080000000000002,
          9.55,
          9.82,
          9.925,
          10.866666666666667,
          10.925,
          11.425,
          12.466666666666669,
          13.7625,
          15.9,
          26.5,
          null
         ],
         "xaxis": "x",
         "y": [
          "BANGLADESH",
          "SENEGAL",
          "LAO PEOPLE'S DEMOCRATIC REP. (THE)",
          "ANGOLA",
          "MAURITANIA",
          "GHANA",
          "SUDAN (THE)",
          "INDIA",
          "SOLOMON ISLANDS",
          "CAMBODIA",
          "PHILIPPINES (THE)",
          "VIET NAM",
          "TIMOR-LESTE",
          "HONDURAS",
          "COTE D'IVOIRE",
          "MYANMAR",
          "EL SALVADOR",
          "PAKISTAN",
          "VANUATU",
          "CONGO (THE)",
          "NIGERIA",
          "BHUTAN",
          "ZIMBABWE",
          "KENYA",
          "NICARAGUA",
          "PAPUA NEW GUINEA",
          "REPUBLIC OF MOLDOVA (THE)",
          "INDONESIA",
          "ZAMBIA",
          "STATE OF PALESTINE",
          "KYRGYZSTAN",
          "CAMEROON",
          "DJIBOUTI",
          "BOLIVIA (PLURINATIONAL STATE OF)",
          "TUNISIA",
          "SAO TOME AND PRINCIPE",
          "LESOTHO",
          "MONGOLIA",
          "MOROCCO",
          "UZBEKISTAN",
          "ESWATINI",
          "COMOROS (THE)",
          "EGYPT",
          "KIRIBATI",
          "UKRAINE",
          "CABO VERDE"
         ],
         "yaxis": "y"
        },
        {
         "hovertemplate": "Income Classification=2.0<br>Overweight=%{x}<br>Country=%{y}<extra></extra>",
         "legendgroup": "2.0",
         "marker": {
          "color": "rgb(221, 204, 119)",
          "symbol": "circle"
         },
         "mode": "markers",
         "name": "2.0",
         "orientation": "h",
         "showlegend": true,
         "type": "scatter",
         "x": [
          1.05,
          2.8,
          3.633333333333333,
          3.65,
          4.1,
          4.125,
          4.66,
          4.783333333333333,
          5.2,
          5.24,
          5.4,
          5.40952380952381,
          5.72,
          5.720000000000001,
          5.75,
          5.994736842105262,
          6.2,
          6.2,
          6.25,
          6.3,
          6.3,
          6.6,
          6.619999999999999,
          6.7,
          7.027272727272727,
          7.371428571428572,
          7.65,
          7.75,
          8.080000000000002,
          8.8,
          8.85,
          8.940000000000001,
          9,
          9.183333333333334,
          9.275,
          9.5,
          9.6,
          9.7,
          9.7,
          10.05,
          11.125,
          12.733333333333333,
          12.833333333333334,
          13.614285714285714,
          13.62,
          16.266666666666666,
          17.3,
          18.75,
          19,
          19.53333333333333,
          19.8,
          20.8,
          21.8,
          null
         ],
         "xaxis": "x",
         "y": [
          "SRI LANKA",
          "NAURU",
          "SURINAME",
          "FIJI",
          "MARSHALL ISLANDS",
          "NAMIBIA",
          "MALDIVES",
          "COLOMBIA",
          "TURKMENISTAN",
          "GUYANA",
          "GUATEMALA",
          "VENEZUELA (BOLIVARIAN REPUBLIC OF)",
          "JORDAN",
          "ECUADOR",
          "SAMOA",
          "JAMAICA",
          "IRAN (ISLAMIC REPUBLIC OF)",
          "MALAYSIA",
          "BRAZIL",
          "SAINT LUCIA",
          "TUVALU",
          "GABON",
          "THAILAND",
          "DOMINICAN REPUBLIC (THE)",
          "CHINA",
          "MEXICO",
          "MAURITIUS",
          "TURKEY",
          "ROMANIA",
          "COSTA RICA",
          "EQUATORIAL GUINEA",
          "PERU",
          "BULGARIA",
          "AZERBAIJAN",
          "PARAGUAY",
          "IRAQ",
          "BELIZE",
          "BELARUS",
          "KAZAKHSTAN",
          "BOTSWANA",
          "ARGENTINA",
          "NORTH MACEDONIA",
          "ALGERIA",
          "SOUTH AFRICA",
          "ARMENIA",
          "SERBIA",
          "TONGA",
          "LEBANON",
          "MONTENEGRO",
          "GEORGIA",
          "BOSNIA AND HERZEGOVINA",
          "ALBANIA",
          "LIBYA",
          "CUBA"
         ],
         "yaxis": "y"
        },
        {
         "hovertemplate": "Income Classification=3.0<br>Overweight=%{x}<br>Country=%{y}<extra></extra>",
         "legendgroup": "3.0",
         "marker": {
          "color": "rgb(17, 119, 51)",
          "symbol": "circle"
         },
         "mode": "markers",
         "name": "3.0",
         "orientation": "h",
         "showlegend": true,
         "type": "scatter",
         "x": [
          1.5,
          2.6,
          3.35,
          3.5500000000000003,
          3.65,
          5.550000000000001,
          6.633333333333333,
          6.75,
          7.414285714285714,
          7.5,
          7.98888888888889,
          8,
          8.3,
          9.066666666666666,
          9.166666666666666,
          10.4,
          10.4,
          11.313333333333334,
          12.2,
          13.875,
          null
         ],
         "xaxis": "x",
         "y": [
          "JAPAN",
          "SINGAPORE",
          "GERMANY",
          "OMAN",
          "SAUDI ARABIA",
          "CZECHIA",
          "TRINIDAD AND TOBAGO",
          "REPUBLIC OF KOREA (THE)",
          "UNITED STATES OF AMERICA (THE)",
          "BAHRAIN",
          "KUWAIT",
          "SEYCHELLES",
          "BRUNEI DARUSSALAM",
          "PANAMA",
          "URUGUAY",
          "CANADA",
          "QATAR",
          "CHILE",
          "BARBADOS",
          "AUSTRALIA",
          "POLAND"
         ],
         "yaxis": "y"
        }
       ],
       "layout": {
        "height": 600,
        "legend": {
         "title": {
          "text": "Income Classification"
         },
         "tracegroupgap": 0
        },
        "margin": {
         "t": 60
        },
        "template": {
         "data": {
          "bar": [
           {
            "error_x": {
             "color": "#2a3f5f"
            },
            "error_y": {
             "color": "#2a3f5f"
            },
            "marker": {
             "line": {
              "color": "#E5ECF6",
              "width": 0.5
             },
             "pattern": {
              "fillmode": "overlay",
              "size": 10,
              "solidity": 0.2
             }
            },
            "type": "bar"
           }
          ],
          "barpolar": [
           {
            "marker": {
             "line": {
              "color": "#E5ECF6",
              "width": 0.5
             },
             "pattern": {
              "fillmode": "overlay",
              "size": 10,
              "solidity": 0.2
             }
            },
            "type": "barpolar"
           }
          ],
          "carpet": [
           {
            "aaxis": {
             "endlinecolor": "#2a3f5f",
             "gridcolor": "white",
             "linecolor": "white",
             "minorgridcolor": "white",
             "startlinecolor": "#2a3f5f"
            },
            "baxis": {
             "endlinecolor": "#2a3f5f",
             "gridcolor": "white",
             "linecolor": "white",
             "minorgridcolor": "white",
             "startlinecolor": "#2a3f5f"
            },
            "type": "carpet"
           }
          ],
          "choropleth": [
           {
            "colorbar": {
             "outlinewidth": 0,
             "ticks": ""
            },
            "type": "choropleth"
           }
          ],
          "contour": [
           {
            "colorbar": {
             "outlinewidth": 0,
             "ticks": ""
            },
            "colorscale": [
             [
              0,
              "#0d0887"
             ],
             [
              0.1111111111111111,
              "#46039f"
             ],
             [
              0.2222222222222222,
              "#7201a8"
             ],
             [
              0.3333333333333333,
              "#9c179e"
             ],
             [
              0.4444444444444444,
              "#bd3786"
             ],
             [
              0.5555555555555556,
              "#d8576b"
             ],
             [
              0.6666666666666666,
              "#ed7953"
             ],
             [
              0.7777777777777778,
              "#fb9f3a"
             ],
             [
              0.8888888888888888,
              "#fdca26"
             ],
             [
              1,
              "#f0f921"
             ]
            ],
            "type": "contour"
           }
          ],
          "contourcarpet": [
           {
            "colorbar": {
             "outlinewidth": 0,
             "ticks": ""
            },
            "type": "contourcarpet"
           }
          ],
          "heatmap": [
           {
            "colorbar": {
             "outlinewidth": 0,
             "ticks": ""
            },
            "colorscale": [
             [
              0,
              "#0d0887"
             ],
             [
              0.1111111111111111,
              "#46039f"
             ],
             [
              0.2222222222222222,
              "#7201a8"
             ],
             [
              0.3333333333333333,
              "#9c179e"
             ],
             [
              0.4444444444444444,
              "#bd3786"
             ],
             [
              0.5555555555555556,
              "#d8576b"
             ],
             [
              0.6666666666666666,
              "#ed7953"
             ],
             [
              0.7777777777777778,
              "#fb9f3a"
             ],
             [
              0.8888888888888888,
              "#fdca26"
             ],
             [
              1,
              "#f0f921"
             ]
            ],
            "type": "heatmap"
           }
          ],
          "heatmapgl": [
           {
            "colorbar": {
             "outlinewidth": 0,
             "ticks": ""
            },
            "colorscale": [
             [
              0,
              "#0d0887"
             ],
             [
              0.1111111111111111,
              "#46039f"
             ],
             [
              0.2222222222222222,
              "#7201a8"
             ],
             [
              0.3333333333333333,
              "#9c179e"
             ],
             [
              0.4444444444444444,
              "#bd3786"
             ],
             [
              0.5555555555555556,
              "#d8576b"
             ],
             [
              0.6666666666666666,
              "#ed7953"
             ],
             [
              0.7777777777777778,
              "#fb9f3a"
             ],
             [
              0.8888888888888888,
              "#fdca26"
             ],
             [
              1,
              "#f0f921"
             ]
            ],
            "type": "heatmapgl"
           }
          ],
          "histogram": [
           {
            "marker": {
             "pattern": {
              "fillmode": "overlay",
              "size": 10,
              "solidity": 0.2
             }
            },
            "type": "histogram"
           }
          ],
          "histogram2d": [
           {
            "colorbar": {
             "outlinewidth": 0,
             "ticks": ""
            },
            "colorscale": [
             [
              0,
              "#0d0887"
             ],
             [
              0.1111111111111111,
              "#46039f"
             ],
             [
              0.2222222222222222,
              "#7201a8"
             ],
             [
              0.3333333333333333,
              "#9c179e"
             ],
             [
              0.4444444444444444,
              "#bd3786"
             ],
             [
              0.5555555555555556,
              "#d8576b"
             ],
             [
              0.6666666666666666,
              "#ed7953"
             ],
             [
              0.7777777777777778,
              "#fb9f3a"
             ],
             [
              0.8888888888888888,
              "#fdca26"
             ],
             [
              1,
              "#f0f921"
             ]
            ],
            "type": "histogram2d"
           }
          ],
          "histogram2dcontour": [
           {
            "colorbar": {
             "outlinewidth": 0,
             "ticks": ""
            },
            "colorscale": [
             [
              0,
              "#0d0887"
             ],
             [
              0.1111111111111111,
              "#46039f"
             ],
             [
              0.2222222222222222,
              "#7201a8"
             ],
             [
              0.3333333333333333,
              "#9c179e"
             ],
             [
              0.4444444444444444,
              "#bd3786"
             ],
             [
              0.5555555555555556,
              "#d8576b"
             ],
             [
              0.6666666666666666,
              "#ed7953"
             ],
             [
              0.7777777777777778,
              "#fb9f3a"
             ],
             [
              0.8888888888888888,
              "#fdca26"
             ],
             [
              1,
              "#f0f921"
             ]
            ],
            "type": "histogram2dcontour"
           }
          ],
          "mesh3d": [
           {
            "colorbar": {
             "outlinewidth": 0,
             "ticks": ""
            },
            "type": "mesh3d"
           }
          ],
          "parcoords": [
           {
            "line": {
             "colorbar": {
              "outlinewidth": 0,
              "ticks": ""
             }
            },
            "type": "parcoords"
           }
          ],
          "pie": [
           {
            "automargin": true,
            "type": "pie"
           }
          ],
          "scatter": [
           {
            "marker": {
             "colorbar": {
              "outlinewidth": 0,
              "ticks": ""
             }
            },
            "type": "scatter"
           }
          ],
          "scatter3d": [
           {
            "line": {
             "colorbar": {
              "outlinewidth": 0,
              "ticks": ""
             }
            },
            "marker": {
             "colorbar": {
              "outlinewidth": 0,
              "ticks": ""
             }
            },
            "type": "scatter3d"
           }
          ],
          "scattercarpet": [
           {
            "marker": {
             "colorbar": {
              "outlinewidth": 0,
              "ticks": ""
             }
            },
            "type": "scattercarpet"
           }
          ],
          "scattergeo": [
           {
            "marker": {
             "colorbar": {
              "outlinewidth": 0,
              "ticks": ""
             }
            },
            "type": "scattergeo"
           }
          ],
          "scattergl": [
           {
            "marker": {
             "colorbar": {
              "outlinewidth": 0,
              "ticks": ""
             }
            },
            "type": "scattergl"
           }
          ],
          "scattermapbox": [
           {
            "marker": {
             "colorbar": {
              "outlinewidth": 0,
              "ticks": ""
             }
            },
            "type": "scattermapbox"
           }
          ],
          "scatterpolar": [
           {
            "marker": {
             "colorbar": {
              "outlinewidth": 0,
              "ticks": ""
             }
            },
            "type": "scatterpolar"
           }
          ],
          "scatterpolargl": [
           {
            "marker": {
             "colorbar": {
              "outlinewidth": 0,
              "ticks": ""
             }
            },
            "type": "scatterpolargl"
           }
          ],
          "scatterternary": [
           {
            "marker": {
             "colorbar": {
              "outlinewidth": 0,
              "ticks": ""
             }
            },
            "type": "scatterternary"
           }
          ],
          "surface": [
           {
            "colorbar": {
             "outlinewidth": 0,
             "ticks": ""
            },
            "colorscale": [
             [
              0,
              "#0d0887"
             ],
             [
              0.1111111111111111,
              "#46039f"
             ],
             [
              0.2222222222222222,
              "#7201a8"
             ],
             [
              0.3333333333333333,
              "#9c179e"
             ],
             [
              0.4444444444444444,
              "#bd3786"
             ],
             [
              0.5555555555555556,
              "#d8576b"
             ],
             [
              0.6666666666666666,
              "#ed7953"
             ],
             [
              0.7777777777777778,
              "#fb9f3a"
             ],
             [
              0.8888888888888888,
              "#fdca26"
             ],
             [
              1,
              "#f0f921"
             ]
            ],
            "type": "surface"
           }
          ],
          "table": [
           {
            "cells": {
             "fill": {
              "color": "#EBF0F8"
             },
             "line": {
              "color": "white"
             }
            },
            "header": {
             "fill": {
              "color": "#C8D4E3"
             },
             "line": {
              "color": "white"
             }
            },
            "type": "table"
           }
          ]
         },
         "layout": {
          "annotationdefaults": {
           "arrowcolor": "#2a3f5f",
           "arrowhead": 0,
           "arrowwidth": 1
          },
          "autotypenumbers": "strict",
          "coloraxis": {
           "colorbar": {
            "outlinewidth": 0,
            "ticks": ""
           }
          },
          "colorscale": {
           "diverging": [
            [
             0,
             "#8e0152"
            ],
            [
             0.1,
             "#c51b7d"
            ],
            [
             0.2,
             "#de77ae"
            ],
            [
             0.3,
             "#f1b6da"
            ],
            [
             0.4,
             "#fde0ef"
            ],
            [
             0.5,
             "#f7f7f7"
            ],
            [
             0.6,
             "#e6f5d0"
            ],
            [
             0.7,
             "#b8e186"
            ],
            [
             0.8,
             "#7fbc41"
            ],
            [
             0.9,
             "#4d9221"
            ],
            [
             1,
             "#276419"
            ]
           ],
           "sequential": [
            [
             0,
             "#0d0887"
            ],
            [
             0.1111111111111111,
             "#46039f"
            ],
            [
             0.2222222222222222,
             "#7201a8"
            ],
            [
             0.3333333333333333,
             "#9c179e"
            ],
            [
             0.4444444444444444,
             "#bd3786"
            ],
            [
             0.5555555555555556,
             "#d8576b"
            ],
            [
             0.6666666666666666,
             "#ed7953"
            ],
            [
             0.7777777777777778,
             "#fb9f3a"
            ],
            [
             0.8888888888888888,
             "#fdca26"
            ],
            [
             1,
             "#f0f921"
            ]
           ],
           "sequentialminus": [
            [
             0,
             "#0d0887"
            ],
            [
             0.1111111111111111,
             "#46039f"
            ],
            [
             0.2222222222222222,
             "#7201a8"
            ],
            [
             0.3333333333333333,
             "#9c179e"
            ],
            [
             0.4444444444444444,
             "#bd3786"
            ],
            [
             0.5555555555555556,
             "#d8576b"
            ],
            [
             0.6666666666666666,
             "#ed7953"
            ],
            [
             0.7777777777777778,
             "#fb9f3a"
            ],
            [
             0.8888888888888888,
             "#fdca26"
            ],
            [
             1,
             "#f0f921"
            ]
           ]
          },
          "colorway": [
           "#636efa",
           "#EF553B",
           "#00cc96",
           "#ab63fa",
           "#FFA15A",
           "#19d3f3",
           "#FF6692",
           "#B6E880",
           "#FF97FF",
           "#FECB52"
          ],
          "font": {
           "color": "#2a3f5f"
          },
          "geo": {
           "bgcolor": "white",
           "lakecolor": "white",
           "landcolor": "#E5ECF6",
           "showlakes": true,
           "showland": true,
           "subunitcolor": "white"
          },
          "hoverlabel": {
           "align": "left"
          },
          "hovermode": "closest",
          "mapbox": {
           "style": "light"
          },
          "paper_bgcolor": "white",
          "plot_bgcolor": "#E5ECF6",
          "polar": {
           "angularaxis": {
            "gridcolor": "white",
            "linecolor": "white",
            "ticks": ""
           },
           "bgcolor": "#E5ECF6",
           "radialaxis": {
            "gridcolor": "white",
            "linecolor": "white",
            "ticks": ""
           }
          },
          "scene": {
           "xaxis": {
            "backgroundcolor": "#E5ECF6",
            "gridcolor": "white",
            "gridwidth": 2,
            "linecolor": "white",
            "showbackground": true,
            "ticks": "",
            "zerolinecolor": "white"
           },
           "yaxis": {
            "backgroundcolor": "#E5ECF6",
            "gridcolor": "white",
            "gridwidth": 2,
            "linecolor": "white",
            "showbackground": true,
            "ticks": "",
            "zerolinecolor": "white"
           },
           "zaxis": {
            "backgroundcolor": "#E5ECF6",
            "gridcolor": "white",
            "gridwidth": 2,
            "linecolor": "white",
            "showbackground": true,
            "ticks": "",
            "zerolinecolor": "white"
           }
          },
          "shapedefaults": {
           "line": {
            "color": "#2a3f5f"
           }
          },
          "ternary": {
           "aaxis": {
            "gridcolor": "white",
            "linecolor": "white",
            "ticks": ""
           },
           "baxis": {
            "gridcolor": "white",
            "linecolor": "white",
            "ticks": ""
           },
           "bgcolor": "#E5ECF6",
           "caxis": {
            "gridcolor": "white",
            "linecolor": "white",
            "ticks": ""
           }
          },
          "title": {
           "x": 0.05
          },
          "xaxis": {
           "automargin": true,
           "gridcolor": "white",
           "linecolor": "white",
           "ticks": "",
           "title": {
            "standoff": 15
           },
           "zerolinecolor": "white",
           "zerolinewidth": 2
          },
          "yaxis": {
           "automargin": true,
           "gridcolor": "white",
           "linecolor": "white",
           "ticks": "",
           "title": {
            "standoff": 15
           },
           "zerolinecolor": "white",
           "zerolinewidth": 2
          }
         }
        },
        "width": 1000,
        "xaxis": {
         "anchor": "y",
         "domain": [
          0,
          1
         ],
         "title": {
          "text": "Overweight"
         }
        },
        "yaxis": {
         "anchor": "x",
         "domain": [
          0,
          1
         ],
         "title": {
          "text": "Country"
         }
        }
       }
      },
      "text/html": [
       "<div>                            <div id=\"f04d509d-bee1-44b9-9f35-9a6876d7a40c\" class=\"plotly-graph-div\" style=\"height:600px; width:1000px;\"></div>            <script type=\"text/javascript\">                require([\"plotly\"], function(Plotly) {                    window.PLOTLYENV=window.PLOTLYENV || {};                                    if (document.getElementById(\"f04d509d-bee1-44b9-9f35-9a6876d7a40c\")) {                    Plotly.newPlot(                        \"f04d509d-bee1-44b9-9f35-9a6876d7a40c\",                        [{\"hovertemplate\":\"Income Classification=0.0<br>Overweight=%{x}<br>Country=%{y}<extra></extra>\",\"legendgroup\":\"0.0\",\"marker\":{\"color\":\"rgb(136, 204, 238)\",\"symbol\":\"circle\"},\"mode\":\"markers\",\"name\":\"0.0\",\"orientation\":\"h\",\"showlegend\":true,\"x\":[1.0285714285714287,1.0666666666666669,1.52,1.6666666666666667,1.775,2.2,2.228571428571428,2.2500000000000004,2.275,2.3999999999999995,2.5,2.75,3.0400000000000005,3.4799999999999995,3.66,3.85,4.277777777777778,4.333333333333333,4.540000000000001,4.842857142857143,5.125,5.380000000000001,5.75,6.116666666666666,6.237500000000001,6.314285714285715,6.566666666666666,6.75,7.484615384615385,8.45,17.825000000000003],\"xaxis\":\"x\",\"y\":[\"NEPAL\",\"DEMOCRATIC PEOPLE'S REP. OF KOREA (THE)\",\"NIGER (THE)\",\"ERITREA\",\"BURUNDI\",\"MALI\",\"GAMBIA (THE)\",\"BURKINA FASO\",\"BENIN\",\"TOGO\",\"MADAGASCAR\",\"ETHIOPIA\",\"CHAD\",\"LIBERIA\",\"HAITI\",\"SOMALIA\",\"UGANDA\",\"GUINEA\",\"UNITED REPUBLIC OF TANZANIA (THE)\",\"YEMEN\",\"AFGHANISTAN\",\"CENTRAL AFRICAN REPUBLIC (THE)\",\"DEMOCRATIC REP. OF THE CONGO (THE)\",\"TAJIKISTAN\",\"SIERRA LEONE\",\"RWANDA\",\"MOZAMBIQUE\",\"GUINEA-BISSAU\",\"MALAWI\",\"SOUTH SUDAN\",\"SYRIAN ARAB REPUBLIC (THE)\"],\"yaxis\":\"y\",\"type\":\"scatter\"},{\"hovertemplate\":\"Income Classification=1.0<br>Overweight=%{x}<br>Country=%{y}<extra></extra>\",\"legendgroup\":\"1.0\",\"marker\":{\"color\":\"rgb(204, 102, 119)\",\"symbol\":\"circle\"},\"mode\":\"markers\",\"name\":\"1.0\",\"orientation\":\"h\",\"showlegend\":true,\"x\":[0.9625000000000002,2.115384615384615,2.4,2.55,2.6375,2.8222222222222224,2.9,2.9333333333333336,2.966666666666667,3.033333333333333,3.1,3.3176470588235287,3.65,3.9,4.3,4.62,4.75,4.757142857142857,4.800000000000001,4.875,4.890909090909092,5.1,5.788888888888889,5.95,6.55,6.733333333333333,6.9,7.199999999999999,7.228571428571429,7.58,7.666666666666665,8.042857142857143,8.25,8.6,9.080000000000002,9.55,9.82,9.925,10.866666666666667,10.925,11.425,12.466666666666669,13.7625,15.9,26.5,null],\"xaxis\":\"x\",\"y\":[\"BANGLADESH\",\"SENEGAL\",\"LAO PEOPLE'S DEMOCRATIC REP. (THE)\",\"ANGOLA\",\"MAURITANIA\",\"GHANA\",\"SUDAN (THE)\",\"INDIA\",\"SOLOMON ISLANDS\",\"CAMBODIA\",\"PHILIPPINES (THE)\",\"VIET NAM\",\"TIMOR-LESTE\",\"HONDURAS\",\"COTE D'IVOIRE\",\"MYANMAR\",\"EL SALVADOR\",\"PAKISTAN\",\"VANUATU\",\"CONGO (THE)\",\"NIGERIA\",\"BHUTAN\",\"ZIMBABWE\",\"KENYA\",\"NICARAGUA\",\"PAPUA NEW GUINEA\",\"REPUBLIC OF MOLDOVA (THE)\",\"INDONESIA\",\"ZAMBIA\",\"STATE OF PALESTINE\",\"KYRGYZSTAN\",\"CAMEROON\",\"DJIBOUTI\",\"BOLIVIA (PLURINATIONAL STATE OF)\",\"TUNISIA\",\"SAO TOME AND PRINCIPE\",\"LESOTHO\",\"MONGOLIA\",\"MOROCCO\",\"UZBEKISTAN\",\"ESWATINI\",\"COMOROS (THE)\",\"EGYPT\",\"KIRIBATI\",\"UKRAINE\",\"CABO VERDE\"],\"yaxis\":\"y\",\"type\":\"scatter\"},{\"hovertemplate\":\"Income Classification=2.0<br>Overweight=%{x}<br>Country=%{y}<extra></extra>\",\"legendgroup\":\"2.0\",\"marker\":{\"color\":\"rgb(221, 204, 119)\",\"symbol\":\"circle\"},\"mode\":\"markers\",\"name\":\"2.0\",\"orientation\":\"h\",\"showlegend\":true,\"x\":[1.05,2.8,3.633333333333333,3.65,4.1,4.125,4.66,4.783333333333333,5.2,5.24,5.4,5.40952380952381,5.72,5.720000000000001,5.75,5.994736842105262,6.2,6.2,6.25,6.3,6.3,6.6,6.619999999999999,6.7,7.027272727272727,7.371428571428572,7.65,7.75,8.080000000000002,8.8,8.85,8.940000000000001,9.0,9.183333333333334,9.275,9.5,9.6,9.7,9.7,10.05,11.125,12.733333333333333,12.833333333333334,13.614285714285714,13.62,16.266666666666666,17.3,18.75,19.0,19.53333333333333,19.8,20.8,21.8,null],\"xaxis\":\"x\",\"y\":[\"SRI LANKA\",\"NAURU\",\"SURINAME\",\"FIJI\",\"MARSHALL ISLANDS\",\"NAMIBIA\",\"MALDIVES\",\"COLOMBIA\",\"TURKMENISTAN\",\"GUYANA\",\"GUATEMALA\",\"VENEZUELA (BOLIVARIAN REPUBLIC OF)\",\"JORDAN\",\"ECUADOR\",\"SAMOA\",\"JAMAICA\",\"IRAN (ISLAMIC REPUBLIC OF)\",\"MALAYSIA\",\"BRAZIL\",\"SAINT LUCIA\",\"TUVALU\",\"GABON\",\"THAILAND\",\"DOMINICAN REPUBLIC (THE)\",\"CHINA\",\"MEXICO\",\"MAURITIUS\",\"TURKEY\",\"ROMANIA\",\"COSTA RICA\",\"EQUATORIAL GUINEA\",\"PERU\",\"BULGARIA\",\"AZERBAIJAN\",\"PARAGUAY\",\"IRAQ\",\"BELIZE\",\"BELARUS\",\"KAZAKHSTAN\",\"BOTSWANA\",\"ARGENTINA\",\"NORTH MACEDONIA\",\"ALGERIA\",\"SOUTH AFRICA\",\"ARMENIA\",\"SERBIA\",\"TONGA\",\"LEBANON\",\"MONTENEGRO\",\"GEORGIA\",\"BOSNIA AND HERZEGOVINA\",\"ALBANIA\",\"LIBYA\",\"CUBA\"],\"yaxis\":\"y\",\"type\":\"scatter\"},{\"hovertemplate\":\"Income Classification=3.0<br>Overweight=%{x}<br>Country=%{y}<extra></extra>\",\"legendgroup\":\"3.0\",\"marker\":{\"color\":\"rgb(17, 119, 51)\",\"symbol\":\"circle\"},\"mode\":\"markers\",\"name\":\"3.0\",\"orientation\":\"h\",\"showlegend\":true,\"x\":[1.5,2.6,3.35,3.5500000000000003,3.65,5.550000000000001,6.633333333333333,6.75,7.414285714285714,7.5,7.98888888888889,8.0,8.3,9.066666666666666,9.166666666666666,10.4,10.4,11.313333333333334,12.2,13.875,null],\"xaxis\":\"x\",\"y\":[\"JAPAN\",\"SINGAPORE\",\"GERMANY\",\"OMAN\",\"SAUDI ARABIA\",\"CZECHIA\",\"TRINIDAD AND TOBAGO\",\"REPUBLIC OF KOREA (THE)\",\"UNITED STATES OF AMERICA (THE)\",\"BAHRAIN\",\"KUWAIT\",\"SEYCHELLES\",\"BRUNEI DARUSSALAM\",\"PANAMA\",\"URUGUAY\",\"CANADA\",\"QATAR\",\"CHILE\",\"BARBADOS\",\"AUSTRALIA\",\"POLAND\"],\"yaxis\":\"y\",\"type\":\"scatter\"}],                        {\"template\":{\"data\":{\"bar\":[{\"error_x\":{\"color\":\"#2a3f5f\"},\"error_y\":{\"color\":\"#2a3f5f\"},\"marker\":{\"line\":{\"color\":\"#E5ECF6\",\"width\":0.5},\"pattern\":{\"fillmode\":\"overlay\",\"size\":10,\"solidity\":0.2}},\"type\":\"bar\"}],\"barpolar\":[{\"marker\":{\"line\":{\"color\":\"#E5ECF6\",\"width\":0.5},\"pattern\":{\"fillmode\":\"overlay\",\"size\":10,\"solidity\":0.2}},\"type\":\"barpolar\"}],\"carpet\":[{\"aaxis\":{\"endlinecolor\":\"#2a3f5f\",\"gridcolor\":\"white\",\"linecolor\":\"white\",\"minorgridcolor\":\"white\",\"startlinecolor\":\"#2a3f5f\"},\"baxis\":{\"endlinecolor\":\"#2a3f5f\",\"gridcolor\":\"white\",\"linecolor\":\"white\",\"minorgridcolor\":\"white\",\"startlinecolor\":\"#2a3f5f\"},\"type\":\"carpet\"}],\"choropleth\":[{\"colorbar\":{\"outlinewidth\":0,\"ticks\":\"\"},\"type\":\"choropleth\"}],\"contour\":[{\"colorbar\":{\"outlinewidth\":0,\"ticks\":\"\"},\"colorscale\":[[0.0,\"#0d0887\"],[0.1111111111111111,\"#46039f\"],[0.2222222222222222,\"#7201a8\"],[0.3333333333333333,\"#9c179e\"],[0.4444444444444444,\"#bd3786\"],[0.5555555555555556,\"#d8576b\"],[0.6666666666666666,\"#ed7953\"],[0.7777777777777778,\"#fb9f3a\"],[0.8888888888888888,\"#fdca26\"],[1.0,\"#f0f921\"]],\"type\":\"contour\"}],\"contourcarpet\":[{\"colorbar\":{\"outlinewidth\":0,\"ticks\":\"\"},\"type\":\"contourcarpet\"}],\"heatmap\":[{\"colorbar\":{\"outlinewidth\":0,\"ticks\":\"\"},\"colorscale\":[[0.0,\"#0d0887\"],[0.1111111111111111,\"#46039f\"],[0.2222222222222222,\"#7201a8\"],[0.3333333333333333,\"#9c179e\"],[0.4444444444444444,\"#bd3786\"],[0.5555555555555556,\"#d8576b\"],[0.6666666666666666,\"#ed7953\"],[0.7777777777777778,\"#fb9f3a\"],[0.8888888888888888,\"#fdca26\"],[1.0,\"#f0f921\"]],\"type\":\"heatmap\"}],\"heatmapgl\":[{\"colorbar\":{\"outlinewidth\":0,\"ticks\":\"\"},\"colorscale\":[[0.0,\"#0d0887\"],[0.1111111111111111,\"#46039f\"],[0.2222222222222222,\"#7201a8\"],[0.3333333333333333,\"#9c179e\"],[0.4444444444444444,\"#bd3786\"],[0.5555555555555556,\"#d8576b\"],[0.6666666666666666,\"#ed7953\"],[0.7777777777777778,\"#fb9f3a\"],[0.8888888888888888,\"#fdca26\"],[1.0,\"#f0f921\"]],\"type\":\"heatmapgl\"}],\"histogram\":[{\"marker\":{\"pattern\":{\"fillmode\":\"overlay\",\"size\":10,\"solidity\":0.2}},\"type\":\"histogram\"}],\"histogram2d\":[{\"colorbar\":{\"outlinewidth\":0,\"ticks\":\"\"},\"colorscale\":[[0.0,\"#0d0887\"],[0.1111111111111111,\"#46039f\"],[0.2222222222222222,\"#7201a8\"],[0.3333333333333333,\"#9c179e\"],[0.4444444444444444,\"#bd3786\"],[0.5555555555555556,\"#d8576b\"],[0.6666666666666666,\"#ed7953\"],[0.7777777777777778,\"#fb9f3a\"],[0.8888888888888888,\"#fdca26\"],[1.0,\"#f0f921\"]],\"type\":\"histogram2d\"}],\"histogram2dcontour\":[{\"colorbar\":{\"outlinewidth\":0,\"ticks\":\"\"},\"colorscale\":[[0.0,\"#0d0887\"],[0.1111111111111111,\"#46039f\"],[0.2222222222222222,\"#7201a8\"],[0.3333333333333333,\"#9c179e\"],[0.4444444444444444,\"#bd3786\"],[0.5555555555555556,\"#d8576b\"],[0.6666666666666666,\"#ed7953\"],[0.7777777777777778,\"#fb9f3a\"],[0.8888888888888888,\"#fdca26\"],[1.0,\"#f0f921\"]],\"type\":\"histogram2dcontour\"}],\"mesh3d\":[{\"colorbar\":{\"outlinewidth\":0,\"ticks\":\"\"},\"type\":\"mesh3d\"}],\"parcoords\":[{\"line\":{\"colorbar\":{\"outlinewidth\":0,\"ticks\":\"\"}},\"type\":\"parcoords\"}],\"pie\":[{\"automargin\":true,\"type\":\"pie\"}],\"scatter\":[{\"marker\":{\"colorbar\":{\"outlinewidth\":0,\"ticks\":\"\"}},\"type\":\"scatter\"}],\"scatter3d\":[{\"line\":{\"colorbar\":{\"outlinewidth\":0,\"ticks\":\"\"}},\"marker\":{\"colorbar\":{\"outlinewidth\":0,\"ticks\":\"\"}},\"type\":\"scatter3d\"}],\"scattercarpet\":[{\"marker\":{\"colorbar\":{\"outlinewidth\":0,\"ticks\":\"\"}},\"type\":\"scattercarpet\"}],\"scattergeo\":[{\"marker\":{\"colorbar\":{\"outlinewidth\":0,\"ticks\":\"\"}},\"type\":\"scattergeo\"}],\"scattergl\":[{\"marker\":{\"colorbar\":{\"outlinewidth\":0,\"ticks\":\"\"}},\"type\":\"scattergl\"}],\"scattermapbox\":[{\"marker\":{\"colorbar\":{\"outlinewidth\":0,\"ticks\":\"\"}},\"type\":\"scattermapbox\"}],\"scatterpolar\":[{\"marker\":{\"colorbar\":{\"outlinewidth\":0,\"ticks\":\"\"}},\"type\":\"scatterpolar\"}],\"scatterpolargl\":[{\"marker\":{\"colorbar\":{\"outlinewidth\":0,\"ticks\":\"\"}},\"type\":\"scatterpolargl\"}],\"scatterternary\":[{\"marker\":{\"colorbar\":{\"outlinewidth\":0,\"ticks\":\"\"}},\"type\":\"scatterternary\"}],\"surface\":[{\"colorbar\":{\"outlinewidth\":0,\"ticks\":\"\"},\"colorscale\":[[0.0,\"#0d0887\"],[0.1111111111111111,\"#46039f\"],[0.2222222222222222,\"#7201a8\"],[0.3333333333333333,\"#9c179e\"],[0.4444444444444444,\"#bd3786\"],[0.5555555555555556,\"#d8576b\"],[0.6666666666666666,\"#ed7953\"],[0.7777777777777778,\"#fb9f3a\"],[0.8888888888888888,\"#fdca26\"],[1.0,\"#f0f921\"]],\"type\":\"surface\"}],\"table\":[{\"cells\":{\"fill\":{\"color\":\"#EBF0F8\"},\"line\":{\"color\":\"white\"}},\"header\":{\"fill\":{\"color\":\"#C8D4E3\"},\"line\":{\"color\":\"white\"}},\"type\":\"table\"}]},\"layout\":{\"annotationdefaults\":{\"arrowcolor\":\"#2a3f5f\",\"arrowhead\":0,\"arrowwidth\":1},\"autotypenumbers\":\"strict\",\"coloraxis\":{\"colorbar\":{\"outlinewidth\":0,\"ticks\":\"\"}},\"colorscale\":{\"diverging\":[[0,\"#8e0152\"],[0.1,\"#c51b7d\"],[0.2,\"#de77ae\"],[0.3,\"#f1b6da\"],[0.4,\"#fde0ef\"],[0.5,\"#f7f7f7\"],[0.6,\"#e6f5d0\"],[0.7,\"#b8e186\"],[0.8,\"#7fbc41\"],[0.9,\"#4d9221\"],[1,\"#276419\"]],\"sequential\":[[0.0,\"#0d0887\"],[0.1111111111111111,\"#46039f\"],[0.2222222222222222,\"#7201a8\"],[0.3333333333333333,\"#9c179e\"],[0.4444444444444444,\"#bd3786\"],[0.5555555555555556,\"#d8576b\"],[0.6666666666666666,\"#ed7953\"],[0.7777777777777778,\"#fb9f3a\"],[0.8888888888888888,\"#fdca26\"],[1.0,\"#f0f921\"]],\"sequentialminus\":[[0.0,\"#0d0887\"],[0.1111111111111111,\"#46039f\"],[0.2222222222222222,\"#7201a8\"],[0.3333333333333333,\"#9c179e\"],[0.4444444444444444,\"#bd3786\"],[0.5555555555555556,\"#d8576b\"],[0.6666666666666666,\"#ed7953\"],[0.7777777777777778,\"#fb9f3a\"],[0.8888888888888888,\"#fdca26\"],[1.0,\"#f0f921\"]]},\"colorway\":[\"#636efa\",\"#EF553B\",\"#00cc96\",\"#ab63fa\",\"#FFA15A\",\"#19d3f3\",\"#FF6692\",\"#B6E880\",\"#FF97FF\",\"#FECB52\"],\"font\":{\"color\":\"#2a3f5f\"},\"geo\":{\"bgcolor\":\"white\",\"lakecolor\":\"white\",\"landcolor\":\"#E5ECF6\",\"showlakes\":true,\"showland\":true,\"subunitcolor\":\"white\"},\"hoverlabel\":{\"align\":\"left\"},\"hovermode\":\"closest\",\"mapbox\":{\"style\":\"light\"},\"paper_bgcolor\":\"white\",\"plot_bgcolor\":\"#E5ECF6\",\"polar\":{\"angularaxis\":{\"gridcolor\":\"white\",\"linecolor\":\"white\",\"ticks\":\"\"},\"bgcolor\":\"#E5ECF6\",\"radialaxis\":{\"gridcolor\":\"white\",\"linecolor\":\"white\",\"ticks\":\"\"}},\"scene\":{\"xaxis\":{\"backgroundcolor\":\"#E5ECF6\",\"gridcolor\":\"white\",\"gridwidth\":2,\"linecolor\":\"white\",\"showbackground\":true,\"ticks\":\"\",\"zerolinecolor\":\"white\"},\"yaxis\":{\"backgroundcolor\":\"#E5ECF6\",\"gridcolor\":\"white\",\"gridwidth\":2,\"linecolor\":\"white\",\"showbackground\":true,\"ticks\":\"\",\"zerolinecolor\":\"white\"},\"zaxis\":{\"backgroundcolor\":\"#E5ECF6\",\"gridcolor\":\"white\",\"gridwidth\":2,\"linecolor\":\"white\",\"showbackground\":true,\"ticks\":\"\",\"zerolinecolor\":\"white\"}},\"shapedefaults\":{\"line\":{\"color\":\"#2a3f5f\"}},\"ternary\":{\"aaxis\":{\"gridcolor\":\"white\",\"linecolor\":\"white\",\"ticks\":\"\"},\"baxis\":{\"gridcolor\":\"white\",\"linecolor\":\"white\",\"ticks\":\"\"},\"bgcolor\":\"#E5ECF6\",\"caxis\":{\"gridcolor\":\"white\",\"linecolor\":\"white\",\"ticks\":\"\"}},\"title\":{\"x\":0.05},\"xaxis\":{\"automargin\":true,\"gridcolor\":\"white\",\"linecolor\":\"white\",\"ticks\":\"\",\"title\":{\"standoff\":15},\"zerolinecolor\":\"white\",\"zerolinewidth\":2},\"yaxis\":{\"automargin\":true,\"gridcolor\":\"white\",\"linecolor\":\"white\",\"ticks\":\"\",\"title\":{\"standoff\":15},\"zerolinecolor\":\"white\",\"zerolinewidth\":2}}},\"xaxis\":{\"anchor\":\"y\",\"domain\":[0.0,1.0],\"title\":{\"text\":\"Overweight\"}},\"yaxis\":{\"anchor\":\"x\",\"domain\":[0.0,1.0],\"title\":{\"text\":\"Country\"}},\"legend\":{\"title\":{\"text\":\"Income Classification\"},\"tracegroupgap\":0},\"margin\":{\"t\":60},\"height\":600,\"width\":1000},                        {\"responsive\": true}                    ).then(function(){\n",
       "                            \n",
       "var gd = document.getElementById('f04d509d-bee1-44b9-9f35-9a6876d7a40c');\n",
       "var x = new MutationObserver(function (mutations, observer) {{\n",
       "        var display = window.getComputedStyle(gd).display;\n",
       "        if (!display || display === 'none') {{\n",
       "            console.log([gd, 'removed!']);\n",
       "            Plotly.purge(gd);\n",
       "            observer.disconnect();\n",
       "        }}\n",
       "}});\n",
       "\n",
       "// Listen for the removal of the full notebook cells\n",
       "var notebookContainer = gd.closest('#notebook-container');\n",
       "if (notebookContainer) {{\n",
       "    x.observe(notebookContainer, {childList: true});\n",
       "}}\n",
       "\n",
       "// Listen for the clearing of the current output cell\n",
       "var outputEl = gd.closest('.output');\n",
       "if (outputEl) {{\n",
       "    x.observe(outputEl, {childList: true});\n",
       "}}\n",
       "\n",
       "                        })                };                });            </script>        </div>"
      ]
     },
     "metadata": {},
     "output_type": "display_data"
    }
   ],
   "source": [
    "Percent_Overweight_per_Country = px.scatter(Data_CWA.sort_values(by=[\"Income Classification\",\"Overweight\"], ascending=[True, True]).reset_index(drop=True),\n",
    " x='Overweight', y='Country',color='Income Classification', height=600,width=1000, color_discrete_sequence=px.colors.qualitative.Safe)\n",
    "Percent_Overweight_per_Country.show()\n"
   ]
  },
  {
   "cell_type": "code",
   "execution_count": 13,
   "metadata": {},
   "outputs": [
    {
     "data": {
      "text/plain": [
       "<seaborn.axisgrid.FacetGrid at 0x19cf26fceb0>"
      ]
     },
     "execution_count": 13,
     "metadata": {},
     "output_type": "execute_result"
    },
    {
     "data": {
      "image/png": "[encoded data removed]",
      "text/plain": [
       "<Figure size 474.125x360 with 1 Axes>"
      ]
     },
     "metadata": {
      "needs_background": "light"
     },
     "output_type": "display_data"
    }
   ],
   "source": [
    "sns.displot(data=Data_CWA, x=\"Overweight\", hue=\"Income Classification\", multiple=\"stack\", kind=\"kde\")\n"
   ]
  },
  {
   "cell_type": "markdown",
   "metadata": {},
   "source": [
    "#### Determine What percent children below the age of 5 are under the low weight-to-height ratio for each country as income classification decreases."
   ]
  },
  {
   "cell_type": "code",
   "execution_count": 14,
   "metadata": {},
   "outputs": [
    {
     "data": {
      "application/vnd.plotly.v1+json": {
       "config": {
        "plotlyServerURL": "https://plot.ly"
       },
       "data": [
        {
         "alignmentgroup": "True",
         "bingroup": "y",
         "histfunc": "sum",
         "hovertemplate": "Income Classification=3.0<br>sum of Severe Wasting=%{x}<br>Country=%{y}<extra></extra>",
         "legendgroup": "3.0",
         "marker": {
          "color": "rgb(136, 204, 238)",
          "pattern": {
           "shape": ""
          }
         },
         "name": "3.0",
         "offsetgroup": "3.0",
         "orientation": "h",
         "showlegend": true,
         "type": "histogram",
         "x": [
          0,
          0.04,
          0.1,
          0.15,
          0.2,
          0.3333333333333333,
          0.4,
          0.5,
          0.6285714285714284,
          0.65,
          1,
          1.2,
          1.4,
          1.6800000000000002,
          2,
          4.5,
          null,
          null,
          null,
          null,
          null
         ],
         "xaxis": "x",
         "y": [
          "AUSTRALIA",
          "UNITED STATES OF AMERICA (THE)",
          "GERMANY",
          "REPUBLIC OF KOREA (THE)",
          "JAPAN",
          "PANAMA",
          "BRUNEI DARUSSALAM",
          "SINGAPORE",
          "KUWAIT",
          "URUGUAY",
          "CZECHIA",
          "SEYCHELLES",
          "TRINIDAD AND TOBAGO",
          "OMAN",
          "BARBADOS",
          "SAUDI ARABIA",
          "BAHRAIN",
          "CANADA",
          "CHILE",
          "POLAND",
          "QATAR"
         ],
         "yaxis": "y"
        },
        {
         "alignmentgroup": "True",
         "bingroup": "y",
         "histfunc": "sum",
         "hovertemplate": "Income Classification=2.0<br>sum of Severe Wasting=%{x}<br>Country=%{y}<extra></extra>",
         "legendgroup": "2.0",
         "marker": {
          "color": "rgb(204, 102, 119)",
          "pattern": {
           "shape": ""
          }
         },
         "name": "2.0",
         "offsetgroup": "2.0",
         "orientation": "h",
         "showlegend": true,
         "type": "histogram",
         "x": [
          0.2,
          0.2,
          0.2133333333333333,
          0.3333333333333333,
          0.3666666666666667,
          0.58,
          0.6,
          0.6,
          0.6333333333333334,
          0.6499999999999999,
          0.7,
          0.7,
          0.7428571428571429,
          0.7600000000000001,
          0.8333333333333334,
          0.8500000000000001,
          0.8571428571428571,
          0.9,
          0.9000000000000001,
          0.9199999999999996,
          0.9210526315789472,
          1.1,
          1.2333333333333334,
          1.2666666666666666,
          1.3,
          1.4,
          1.4,
          1.475,
          1.5333333333333332,
          1.58,
          1.6,
          1.6,
          1.7000000000000002,
          2,
          2.1,
          2.175,
          2.2,
          2.25,
          2.425,
          2.45,
          2.45,
          2.575,
          2.733333333333333,
          2.75,
          2.85,
          2.92,
          3.233333333333333,
          4.075,
          4.725,
          null,
          null,
          null,
          null,
          null
         ],
         "xaxis": "x",
         "y": [
          "ARGENTINA",
          "NAURU",
          "PERU",
          "PARAGUAY",
          "COLOMBIA",
          "ECUADOR",
          "BELARUS",
          "TURKEY",
          "NORTH MACEDONIA",
          "MEXICO",
          "BRAZIL",
          "SAINT LUCIA",
          "DOMINICAN REPUBLIC (THE)",
          "JORDAN",
          "BELIZE",
          "GEORGIA",
          "GUATEMALA",
          "TUVALU",
          "ROMANIA",
          "CHINA",
          "JAMAICA",
          "MARSHALL ISLANDS",
          "SERBIA",
          "SURINAME",
          "SAMOA",
          "GABON",
          "IRAN (ISLAMIC REPUBLIC OF)",
          "THAILAND",
          "BULGARIA",
          "KAZAKHSTAN",
          "ARMENIA",
          "TURKMENISTAN",
          "MONTENEGRO",
          "FIJI",
          "TONGA",
          "IRAQ",
          "BOSNIA AND HERZEGOVINA",
          "LEBANON",
          "EQUATORIAL GUINEA",
          "GUYANA",
          "SRI LANKA",
          "AZERBAIJAN",
          "ALGERIA",
          "NAMIBIA",
          "BOTSWANA",
          "SOUTH AFRICA",
          "LIBYA",
          "ALBANIA",
          "MALDIVES",
          "COSTA RICA",
          "CUBA",
          "MALAYSIA",
          "MAURITIUS",
          "VENEZUELA (BOLIVARIAN REPUBLIC OF)"
         ],
         "yaxis": "y"
        },
        {
         "alignmentgroup": "True",
         "bingroup": "y",
         "histfunc": "sum",
         "hovertemplate": "Income Classification=1.0<br>sum of Severe Wasting=%{x}<br>Country=%{y}<extra></extra>",
         "legendgroup": "1.0",
         "marker": {
          "color": "rgb(221, 204, 119)",
          "pattern": {
           "shape": ""
          }
         },
         "name": "1.0",
         "offsetgroup": "1.0",
         "orientation": "h",
         "showlegend": true,
         "type": "histogram",
         "x": [
          0.275,
          0.4333333333333333,
          0.5999999999999999,
          0.7000000000000001,
          0.75,
          0.8166666666666668,
          0.8499999999999999,
          0.9625,
          1.1,
          1.3888888888888888,
          1.4,
          1.45,
          1.62,
          1.7,
          1.8142857142857145,
          1.825,
          1.92,
          1.95,
          2.011111111111111,
          2.042857142857143,
          2.3312500000000003,
          2.333333333333333,
          2.333333333333333,
          2.3625000000000003,
          2.4,
          2.4333333333333336,
          2.4875000000000003,
          2.5,
          2.6,
          2.8000000000000003,
          2.813636363636364,
          2.975,
          3.2,
          3.483333333333334,
          3.8,
          3.975,
          4.171428571428572,
          4.379999999999999,
          4.5,
          4.766666666666667,
          4.775,
          5.4,
          6.116666666666667,
          9.4,
          null,
          null
         ],
         "xaxis": "x",
         "y": [
          "HONDURAS",
          "EL SALVADOR",
          "ESWATINI",
          "BOLIVIA (PLURINATIONAL STATE OF)",
          "NICARAGUA",
          "KYRGYZSTAN",
          "STATE OF PALESTINE",
          "MONGOLIA",
          "TUNISIA",
          "ZIMBABWE",
          "BHUTAN",
          "REPUBLIC OF MOLDOVA (THE)",
          "LESOTHO",
          "VANUATU",
          "CAMEROON",
          "SENEGAL",
          "PHILIPPINES (THE)",
          "MOROCCO",
          "GHANA",
          "ZAMBIA",
          "VIET NAM",
          "SAO TOME AND PRINCIPE",
          "SOLOMON ISLANDS",
          "KENYA",
          "ANGOLA",
          "CONGO (THE)",
          "EGYPT",
          "MYANMAR",
          "COTE D'IVOIRE",
          "PAPUA NEW GUINEA",
          "BANGLADESH",
          "UZBEKISTAN",
          "LAO PEOPLE'S DEMOCRATIC REP. (THE)",
          "CAMBODIA",
          "UKRAINE",
          "MAURITANIA",
          "INDONESIA",
          "NIGERIA",
          "PAKISTAN",
          "SUDAN (THE)",
          "TIMOR-LESTE",
          "COMOROS (THE)",
          "INDIA",
          "DJIBOUTI",
          "CABO VERDE",
          "KIRIBATI"
         ],
         "yaxis": "y"
        },
        {
         "alignmentgroup": "True",
         "bingroup": "y",
         "histfunc": "sum",
         "hovertemplate": "Income Classification=0.0<br>sum of Severe Wasting=%{x}<br>Country=%{y}<extra></extra>",
         "legendgroup": "0.0",
         "marker": {
          "color": "rgb(17, 119, 51)",
          "pattern": {
           "shape": ""
          }
         },
         "name": "0.0",
         "offsetgroup": "0.0",
         "orientation": "h",
         "showlegend": true,
         "type": "histogram",
         "x": [
          1.2600000000000002,
          1.275,
          1.3333333333333337,
          1.425,
          1.5,
          1.6076923076923082,
          1.7799999999999998,
          1.98,
          2.0375,
          2.085714285714286,
          2.24,
          2.425,
          2.483333333333333,
          2.5285714285714285,
          2.566666666666667,
          2.9250000000000003,
          3.016666666666666,
          3.033333333333333,
          3.075,
          3.16,
          3.242857142857143,
          4.15,
          4.1692307692307695,
          4.33,
          4.35,
          4.457142857142856,
          4.633333333333333,
          5.05,
          5.3,
          5.5,
          11.4
         ],
         "xaxis": "x",
         "y": [
          "BURUNDI",
          "DEMOCRATIC PEOPLE'S REP. OF KOREA (THE)",
          "UGANDA",
          "RWANDA",
          "UNITED REPUBLIC OF TANZANIA (THE)",
          "MALAWI",
          "LIBERIA",
          "HAITI",
          "TOGO",
          "GAMBIA (THE)",
          "MADAGASCAR",
          "BENIN",
          "TAJIKISTAN",
          "NEPAL",
          "MOZAMBIQUE",
          "GUINEA-BISSAU",
          "ETHIOPIA",
          "AFGHANISTAN",
          "SIERRA LEONE",
          "CENTRAL AFRICAN REPUBLIC (THE)",
          "GUINEA",
          "DEMOCRATIC REP. OF THE CONGO (THE)",
          "BURKINA FASO",
          "NIGER (THE)",
          "SOMALIA",
          "MALI",
          "ERITREA",
          "SYRIAN ARAB REPUBLIC (THE)",
          "YEMEN",
          "CHAD",
          "SOUTH SUDAN"
         ],
         "yaxis": "y"
        }
       ],
       "layout": {
        "barmode": "relative",
        "height": 600,
        "legend": {
         "title": {
          "text": "Income Classification"
         },
         "tracegroupgap": 0
        },
        "margin": {
         "t": 60
        },
        "template": {
         "data": {
          "bar": [
           {
            "error_x": {
             "color": "#2a3f5f"
            },
            "error_y": {
             "color": "#2a3f5f"
            },
            "marker": {
             "line": {
              "color": "#E5ECF6",
              "width": 0.5
             },
             "pattern": {
              "fillmode": "overlay",
              "size": 10,
              "solidity": 0.2
             }
            },
            "type": "bar"
           }
          ],
          "barpolar": [
           {
            "marker": {
             "line": {
              "color": "#E5ECF6",
              "width": 0.5
             },
             "pattern": {
              "fillmode": "overlay",
              "size": 10,
              "solidity": 0.2
             }
            },
            "type": "barpolar"
           }
          ],
          "carpet": [
           {
            "aaxis": {
             "endlinecolor": "#2a3f5f",
             "gridcolor": "white",
             "linecolor": "white",
             "minorgridcolor": "white",
             "startlinecolor": "#2a3f5f"
            },
            "baxis": {
             "endlinecolor": "#2a3f5f",
             "gridcolor": "white",
             "linecolor": "white",
             "minorgridcolor": "white",
             "startlinecolor": "#2a3f5f"
            },
            "type": "carpet"
           }
          ],
          "choropleth": [
           {
            "colorbar": {
             "outlinewidth": 0,
             "ticks": ""
            },
            "type": "choropleth"
           }
          ],
          "contour": [
           {
            "colorbar": {
             "outlinewidth": 0,
             "ticks": ""
            },
            "colorscale": [
             [
              0,
              "#0d0887"
             ],
             [
              0.1111111111111111,
              "#46039f"
             ],
             [
              0.2222222222222222,
              "#7201a8"
             ],
             [
              0.3333333333333333,
              "#9c179e"
             ],
             [
              0.4444444444444444,
              "#bd3786"
             ],
             [
              0.5555555555555556,
              "#d8576b"
             ],
             [
              0.6666666666666666,
              "#ed7953"
             ],
             [
              0.7777777777777778,
              "#fb9f3a"
             ],
             [
              0.8888888888888888,
              "#fdca26"
             ],
             [
              1,
              "#f0f921"
             ]
            ],
            "type": "contour"
           }
          ],
          "contourcarpet": [
           {
            "colorbar": {
             "outlinewidth": 0,
             "ticks": ""
            },
            "type": "contourcarpet"
           }
          ],
          "heatmap": [
           {
            "colorbar": {
             "outlinewidth": 0,
             "ticks": ""
            },
            "colorscale": [
             [
              0,
              "#0d0887"
             ],
             [
              0.1111111111111111,
              "#46039f"
             ],
             [
              0.2222222222222222,
              "#7201a8"
             ],
             [
              0.3333333333333333,
              "#9c179e"
             ],
             [
              0.4444444444444444,
              "#bd3786"
             ],
             [
              0.5555555555555556,
              "#d8576b"
             ],
             [
              0.6666666666666666,
              "#ed7953"
             ],
             [
              0.7777777777777778,
              "#fb9f3a"
             ],
             [
              0.8888888888888888,
              "#fdca26"
             ],
             [
              1,
              "#f0f921"
             ]
            ],
            "type": "heatmap"
           }
          ],
          "heatmapgl": [
           {
            "colorbar": {
             "outlinewidth": 0,
             "ticks": ""
            },
            "colorscale": [
             [
              0,
              "#0d0887"
             ],
             [
              0.1111111111111111,
              "#46039f"
             ],
             [
              0.2222222222222222,
              "#7201a8"
             ],
             [
              0.3333333333333333,
              "#9c179e"
             ],
             [
              0.4444444444444444,
              "#bd3786"
             ],
             [
              0.5555555555555556,
              "#d8576b"
             ],
             [
              0.6666666666666666,
              "#ed7953"
             ],
             [
              0.7777777777777778,
              "#fb9f3a"
             ],
             [
              0.8888888888888888,
              "#fdca26"
             ],
             [
              1,
              "#f0f921"
             ]
            ],
            "type": "heatmapgl"
           }
          ],
          "histogram": [
           {
            "marker": {
             "pattern": {
              "fillmode": "overlay",
              "size": 10,
              "solidity": 0.2
             }
            },
            "type": "histogram"
           }
          ],
          "histogram2d": [
           {
            "colorbar": {
             "outlinewidth": 0,
             "ticks": ""
            },
            "colorscale": [
             [
              0,
              "#0d0887"
             ],
             [
              0.1111111111111111,
              "#46039f"
             ],
             [
              0.2222222222222222,
              "#7201a8"
             ],
             [
              0.3333333333333333,
              "#9c179e"
             ],
             [
              0.4444444444444444,
              "#bd3786"
             ],
             [
              0.5555555555555556,
              "#d8576b"
             ],
             [
              0.6666666666666666,
              "#ed7953"
             ],
             [
              0.7777777777777778,
              "#fb9f3a"
             ],
             [
              0.8888888888888888,
              "#fdca26"
             ],
             [
              1,
              "#f0f921"
             ]
            ],
            "type": "histogram2d"
           }
          ],
          "histogram2dcontour": [
           {
            "colorbar": {
             "outlinewidth": 0,
             "ticks": ""
            },
            "colorscale": [
             [
              0,
              "#0d0887"
             ],
             [
              0.1111111111111111,
              "#46039f"
             ],
             [
              0.2222222222222222,
              "#7201a8"
             ],
             [
              0.3333333333333333,
              "#9c179e"
             ],
             [
              0.4444444444444444,
              "#bd3786"
             ],
             [
              0.5555555555555556,
              "#d8576b"
             ],
             [
              0.6666666666666666,
              "#ed7953"
             ],
             [
              0.7777777777777778,
              "#fb9f3a"
             ],
             [
              0.8888888888888888,
              "#fdca26"
             ],
             [
              1,
              "#f0f921"
             ]
            ],
            "type": "histogram2dcontour"
           }
          ],
          "mesh3d": [
           {
            "colorbar": {
             "outlinewidth": 0,
             "ticks": ""
            },
            "type": "mesh3d"
           }
          ],
          "parcoords": [
           {
            "line": {
             "colorbar": {
              "outlinewidth": 0,
              "ticks": ""
             }
            },
            "type": "parcoords"
           }
          ],
          "pie": [
           {
            "automargin": true,
            "type": "pie"
           }
          ],
          "scatter": [
           {
            "marker": {
             "colorbar": {
              "outlinewidth": 0,
              "ticks": ""
             }
            },
            "type": "scatter"
           }
          ],
          "scatter3d": [
           {
            "line": {
             "colorbar": {
              "outlinewidth": 0,
              "ticks": ""
             }
            },
            "marker": {
             "colorbar": {
              "outlinewidth": 0,
              "ticks": ""
             }
            },
            "type": "scatter3d"
           }
          ],
          "scattercarpet": [
           {
            "marker": {
             "colorbar": {
              "outlinewidth": 0,
              "ticks": ""
             }
            },
            "type": "scattercarpet"
           }
          ],
          "scattergeo": [
           {
            "marker": {
             "colorbar": {
              "outlinewidth": 0,
              "ticks": ""
             }
            },
            "type": "scattergeo"
           }
          ],
          "scattergl": [
           {
            "marker": {
             "colorbar": {
              "outlinewidth": 0,
              "ticks": ""
             }
            },
            "type": "scattergl"
           }
          ],
          "scattermapbox": [
           {
            "marker": {
             "colorbar": {
              "outlinewidth": 0,
              "ticks": ""
             }
            },
            "type": "scattermapbox"
           }
          ],
          "scatterpolar": [
           {
            "marker": {
             "colorbar": {
              "outlinewidth": 0,
              "ticks": ""
             }
            },
            "type": "scatterpolar"
           }
          ],
          "scatterpolargl": [
           {
            "marker": {
             "colorbar": {
              "outlinewidth": 0,
              "ticks": ""
             }
            },
            "type": "scatterpolargl"
           }
          ],
          "scatterternary": [
           {
            "marker": {
             "colorbar": {
              "outlinewidth": 0,
              "ticks": ""
             }
            },
            "type": "scatterternary"
           }
          ],
          "surface": [
           {
            "colorbar": {
             "outlinewidth": 0,
             "ticks": ""
            },
            "colorscale": [
             [
              0,
              "#0d0887"
             ],
             [
              0.1111111111111111,
              "#46039f"
             ],
             [
              0.2222222222222222,
              "#7201a8"
             ],
             [
              0.3333333333333333,
              "#9c179e"
             ],
             [
              0.4444444444444444,
              "#bd3786"
             ],
             [
              0.5555555555555556,
              "#d8576b"
             ],
             [
              0.6666666666666666,
              "#ed7953"
             ],
             [
              0.7777777777777778,
              "#fb9f3a"
             ],
             [
              0.8888888888888888,
              "#fdca26"
             ],
             [
              1,
              "#f0f921"
             ]
            ],
            "type": "surface"
           }
          ],
          "table": [
           {
            "cells": {
             "fill": {
              "color": "#EBF0F8"
             },
             "line": {
              "color": "white"
             }
            },
            "header": {
             "fill": {
              "color": "#C8D4E3"
             },
             "line": {
              "color": "white"
             }
            },
            "type": "table"
           }
          ]
         },
         "layout": {
          "annotationdefaults": {
           "arrowcolor": "#2a3f5f",
           "arrowhead": 0,
           "arrowwidth": 1
          },
          "autotypenumbers": "strict",
          "coloraxis": {
           "colorbar": {
            "outlinewidth": 0,
            "ticks": ""
           }
          },
          "colorscale": {
           "diverging": [
            [
             0,
             "#8e0152"
            ],
            [
             0.1,
             "#c51b7d"
            ],
            [
             0.2,
             "#de77ae"
            ],
            [
             0.3,
             "#f1b6da"
            ],
            [
             0.4,
             "#fde0ef"
            ],
            [
             0.5,
             "#f7f7f7"
            ],
            [
             0.6,
             "#e6f5d0"
            ],
            [
             0.7,
             "#b8e186"
            ],
            [
             0.8,
             "#7fbc41"
            ],
            [
             0.9,
             "#4d9221"
            ],
            [
             1,
             "#276419"
            ]
           ],
           "sequential": [
            [
             0,
             "#0d0887"
            ],
            [
             0.1111111111111111,
             "#46039f"
            ],
            [
             0.2222222222222222,
             "#7201a8"
            ],
            [
             0.3333333333333333,
             "#9c179e"
            ],
            [
             0.4444444444444444,
             "#bd3786"
            ],
            [
             0.5555555555555556,
             "#d8576b"
            ],
            [
             0.6666666666666666,
             "#ed7953"
            ],
            [
             0.7777777777777778,
             "#fb9f3a"
            ],
            [
             0.8888888888888888,
             "#fdca26"
            ],
            [
             1,
             "#f0f921"
            ]
           ],
           "sequentialminus": [
            [
             0,
             "#0d0887"
            ],
            [
             0.1111111111111111,
             "#46039f"
            ],
            [
             0.2222222222222222,
             "#7201a8"
            ],
            [
             0.3333333333333333,
             "#9c179e"
            ],
            [
             0.4444444444444444,
             "#bd3786"
            ],
            [
             0.5555555555555556,
             "#d8576b"
            ],
            [
             0.6666666666666666,
             "#ed7953"
            ],
            [
             0.7777777777777778,
             "#fb9f3a"
            ],
            [
             0.8888888888888888,
             "#fdca26"
            ],
            [
             1,
             "#f0f921"
            ]
           ]
          },
          "colorway": [
           "#636efa",
           "#EF553B",
           "#00cc96",
           "#ab63fa",
           "#FFA15A",
           "#19d3f3",
           "#FF6692",
           "#B6E880",
           "#FF97FF",
           "#FECB52"
          ],
          "font": {
           "color": "#2a3f5f"
          },
          "geo": {
           "bgcolor": "white",
           "lakecolor": "white",
           "landcolor": "#E5ECF6",
           "showlakes": true,
           "showland": true,
           "subunitcolor": "white"
          },
          "hoverlabel": {
           "align": "left"
          },
          "hovermode": "closest",
          "mapbox": {
           "style": "light"
          },
          "paper_bgcolor": "white",
          "plot_bgcolor": "#E5ECF6",
          "polar": {
           "angularaxis": {
            "gridcolor": "white",
            "linecolor": "white",
            "ticks": ""
           },
           "bgcolor": "#E5ECF6",
           "radialaxis": {
            "gridcolor": "white",
            "linecolor": "white",
            "ticks": ""
           }
          },
          "scene": {
           "xaxis": {
            "backgroundcolor": "#E5ECF6",
            "gridcolor": "white",
            "gridwidth": 2,
            "linecolor": "white",
            "showbackground": true,
            "ticks": "",
            "zerolinecolor": "white"
           },
           "yaxis": {
            "backgroundcolor": "#E5ECF6",
            "gridcolor": "white",
            "gridwidth": 2,
            "linecolor": "white",
            "showbackground": true,
            "ticks": "",
            "zerolinecolor": "white"
           },
           "zaxis": {
            "backgroundcolor": "#E5ECF6",
            "gridcolor": "white",
            "gridwidth": 2,
            "linecolor": "white",
            "showbackground": true,
            "ticks": "",
            "zerolinecolor": "white"
           }
          },
          "shapedefaults": {
           "line": {
            "color": "#2a3f5f"
           }
          },
          "ternary": {
           "aaxis": {
            "gridcolor": "white",
            "linecolor": "white",
            "ticks": ""
           },
           "baxis": {
            "gridcolor": "white",
            "linecolor": "white",
            "ticks": ""
           },
           "bgcolor": "#E5ECF6",
           "caxis": {
            "gridcolor": "white",
            "linecolor": "white",
            "ticks": ""
           }
          },
          "title": {
           "x": 0.05
          },
          "xaxis": {
           "automargin": true,
           "gridcolor": "white",
           "linecolor": "white",
           "ticks": "",
           "title": {
            "standoff": 15
           },
           "zerolinecolor": "white",
           "zerolinewidth": 2
          },
          "yaxis": {
           "automargin": true,
           "gridcolor": "white",
           "linecolor": "white",
           "ticks": "",
           "title": {
            "standoff": 15
           },
           "zerolinecolor": "white",
           "zerolinewidth": 2
          }
         }
        },
        "width": 1000,
        "xaxis": {
         "anchor": "y",
         "domain": [
          0,
          1
         ],
         "title": {
          "text": "sum of Severe Wasting"
         }
        },
        "yaxis": {
         "anchor": "x",
         "domain": [
          0,
          1
         ],
         "title": {
          "text": "Country"
         }
        }
       }
      },
      "text/html": [
       "<div>                            <div id=\"629d4fdb-6f16-40a5-b4b7-2d8950d79ab0\" class=\"plotly-graph-div\" style=\"height:600px; width:1000px;\"></div>            <script type=\"text/javascript\">                require([\"plotly\"], function(Plotly) {                    window.PLOTLYENV=window.PLOTLYENV || {};                                    if (document.getElementById(\"629d4fdb-6f16-40a5-b4b7-2d8950d79ab0\")) {                    Plotly.newPlot(                        \"629d4fdb-6f16-40a5-b4b7-2d8950d79ab0\",                        [{\"alignmentgroup\":\"True\",\"bingroup\":\"y\",\"histfunc\":\"sum\",\"hovertemplate\":\"Income Classification=3.0<br>sum of Severe Wasting=%{x}<br>Country=%{y}<extra></extra>\",\"legendgroup\":\"3.0\",\"marker\":{\"color\":\"rgb(136, 204, 238)\",\"pattern\":{\"shape\":\"\"}},\"name\":\"3.0\",\"offsetgroup\":\"3.0\",\"orientation\":\"h\",\"showlegend\":true,\"x\":[0.0,0.04,0.1,0.15,0.2,0.3333333333333333,0.4,0.5,0.6285714285714284,0.65,1.0,1.2,1.4,1.6800000000000002,2.0,4.5,null,null,null,null,null],\"xaxis\":\"x\",\"y\":[\"AUSTRALIA\",\"UNITED STATES OF AMERICA (THE)\",\"GERMANY\",\"REPUBLIC OF KOREA (THE)\",\"JAPAN\",\"PANAMA\",\"BRUNEI DARUSSALAM\",\"SINGAPORE\",\"KUWAIT\",\"URUGUAY\",\"CZECHIA\",\"SEYCHELLES\",\"TRINIDAD AND TOBAGO\",\"OMAN\",\"BARBADOS\",\"SAUDI ARABIA\",\"BAHRAIN\",\"CANADA\",\"CHILE\",\"POLAND\",\"QATAR\"],\"yaxis\":\"y\",\"type\":\"histogram\"},{\"alignmentgroup\":\"True\",\"bingroup\":\"y\",\"histfunc\":\"sum\",\"hovertemplate\":\"Income Classification=2.0<br>sum of Severe Wasting=%{x}<br>Country=%{y}<extra></extra>\",\"legendgroup\":\"2.0\",\"marker\":{\"color\":\"rgb(204, 102, 119)\",\"pattern\":{\"shape\":\"\"}},\"name\":\"2.0\",\"offsetgroup\":\"2.0\",\"orientation\":\"h\",\"showlegend\":true,\"x\":[0.2,0.2,0.2133333333333333,0.3333333333333333,0.3666666666666667,0.58,0.6,0.6,0.6333333333333334,0.6499999999999999,0.7,0.7,0.7428571428571429,0.7600000000000001,0.8333333333333334,0.8500000000000001,0.8571428571428571,0.9,0.9000000000000001,0.9199999999999996,0.9210526315789472,1.1,1.2333333333333334,1.2666666666666666,1.3,1.4,1.4,1.475,1.5333333333333332,1.58,1.6,1.6,1.7000000000000002,2.0,2.1,2.175,2.2,2.25,2.425,2.45,2.45,2.575,2.733333333333333,2.75,2.85,2.92,3.233333333333333,4.075,4.725,null,null,null,null,null],\"xaxis\":\"x\",\"y\":[\"ARGENTINA\",\"NAURU\",\"PERU\",\"PARAGUAY\",\"COLOMBIA\",\"ECUADOR\",\"BELARUS\",\"TURKEY\",\"NORTH MACEDONIA\",\"MEXICO\",\"BRAZIL\",\"SAINT LUCIA\",\"DOMINICAN REPUBLIC (THE)\",\"JORDAN\",\"BELIZE\",\"GEORGIA\",\"GUATEMALA\",\"TUVALU\",\"ROMANIA\",\"CHINA\",\"JAMAICA\",\"MARSHALL ISLANDS\",\"SERBIA\",\"SURINAME\",\"SAMOA\",\"GABON\",\"IRAN (ISLAMIC REPUBLIC OF)\",\"THAILAND\",\"BULGARIA\",\"KAZAKHSTAN\",\"ARMENIA\",\"TURKMENISTAN\",\"MONTENEGRO\",\"FIJI\",\"TONGA\",\"IRAQ\",\"BOSNIA AND HERZEGOVINA\",\"LEBANON\",\"EQUATORIAL GUINEA\",\"GUYANA\",\"SRI LANKA\",\"AZERBAIJAN\",\"ALGERIA\",\"NAMIBIA\",\"BOTSWANA\",\"SOUTH AFRICA\",\"LIBYA\",\"ALBANIA\",\"MALDIVES\",\"COSTA RICA\",\"CUBA\",\"MALAYSIA\",\"MAURITIUS\",\"VENEZUELA (BOLIVARIAN REPUBLIC OF)\"],\"yaxis\":\"y\",\"type\":\"histogram\"},{\"alignmentgroup\":\"True\",\"bingroup\":\"y\",\"histfunc\":\"sum\",\"hovertemplate\":\"Income Classification=1.0<br>sum of Severe Wasting=%{x}<br>Country=%{y}<extra></extra>\",\"legendgroup\":\"1.0\",\"marker\":{\"color\":\"rgb(221, 204, 119)\",\"pattern\":{\"shape\":\"\"}},\"name\":\"1.0\",\"offsetgroup\":\"1.0\",\"orientation\":\"h\",\"showlegend\":true,\"x\":[0.275,0.4333333333333333,0.5999999999999999,0.7000000000000001,0.75,0.8166666666666668,0.8499999999999999,0.9625,1.1,1.3888888888888888,1.4,1.45,1.62,1.7,1.8142857142857145,1.825,1.92,1.95,2.011111111111111,2.042857142857143,2.3312500000000003,2.333333333333333,2.333333333333333,2.3625000000000003,2.4,2.4333333333333336,2.4875000000000003,2.5,2.6,2.8000000000000003,2.813636363636364,2.975,3.2,3.483333333333334,3.8,3.975,4.171428571428572,4.379999999999999,4.5,4.766666666666667,4.775,5.4,6.116666666666667,9.4,null,null],\"xaxis\":\"x\",\"y\":[\"HONDURAS\",\"EL SALVADOR\",\"ESWATINI\",\"BOLIVIA (PLURINATIONAL STATE OF)\",\"NICARAGUA\",\"KYRGYZSTAN\",\"STATE OF PALESTINE\",\"MONGOLIA\",\"TUNISIA\",\"ZIMBABWE\",\"BHUTAN\",\"REPUBLIC OF MOLDOVA (THE)\",\"LESOTHO\",\"VANUATU\",\"CAMEROON\",\"SENEGAL\",\"PHILIPPINES (THE)\",\"MOROCCO\",\"GHANA\",\"ZAMBIA\",\"VIET NAM\",\"SAO TOME AND PRINCIPE\",\"SOLOMON ISLANDS\",\"KENYA\",\"ANGOLA\",\"CONGO (THE)\",\"EGYPT\",\"MYANMAR\",\"COTE D'IVOIRE\",\"PAPUA NEW GUINEA\",\"BANGLADESH\",\"UZBEKISTAN\",\"LAO PEOPLE'S DEMOCRATIC REP. (THE)\",\"CAMBODIA\",\"UKRAINE\",\"MAURITANIA\",\"INDONESIA\",\"NIGERIA\",\"PAKISTAN\",\"SUDAN (THE)\",\"TIMOR-LESTE\",\"COMOROS (THE)\",\"INDIA\",\"DJIBOUTI\",\"CABO VERDE\",\"KIRIBATI\"],\"yaxis\":\"y\",\"type\":\"histogram\"},{\"alignmentgroup\":\"True\",\"bingroup\":\"y\",\"histfunc\":\"sum\",\"hovertemplate\":\"Income Classification=0.0<br>sum of Severe Wasting=%{x}<br>Country=%{y}<extra></extra>\",\"legendgroup\":\"0.0\",\"marker\":{\"color\":\"rgb(17, 119, 51)\",\"pattern\":{\"shape\":\"\"}},\"name\":\"0.0\",\"offsetgroup\":\"0.0\",\"orientation\":\"h\",\"showlegend\":true,\"x\":[1.2600000000000002,1.275,1.3333333333333337,1.425,1.5,1.6076923076923082,1.7799999999999998,1.98,2.0375,2.085714285714286,2.24,2.425,2.483333333333333,2.5285714285714285,2.566666666666667,2.9250000000000003,3.016666666666666,3.033333333333333,3.075,3.16,3.242857142857143,4.15,4.1692307692307695,4.33,4.35,4.457142857142856,4.633333333333333,5.05,5.3,5.5,11.4],\"xaxis\":\"x\",\"y\":[\"BURUNDI\",\"DEMOCRATIC PEOPLE'S REP. OF KOREA (THE)\",\"UGANDA\",\"RWANDA\",\"UNITED REPUBLIC OF TANZANIA (THE)\",\"MALAWI\",\"LIBERIA\",\"HAITI\",\"TOGO\",\"GAMBIA (THE)\",\"MADAGASCAR\",\"BENIN\",\"TAJIKISTAN\",\"NEPAL\",\"MOZAMBIQUE\",\"GUINEA-BISSAU\",\"ETHIOPIA\",\"AFGHANISTAN\",\"SIERRA LEONE\",\"CENTRAL AFRICAN REPUBLIC (THE)\",\"GUINEA\",\"DEMOCRATIC REP. OF THE CONGO (THE)\",\"BURKINA FASO\",\"NIGER (THE)\",\"SOMALIA\",\"MALI\",\"ERITREA\",\"SYRIAN ARAB REPUBLIC (THE)\",\"YEMEN\",\"CHAD\",\"SOUTH SUDAN\"],\"yaxis\":\"y\",\"type\":\"histogram\"}],                        {\"template\":{\"data\":{\"bar\":[{\"error_x\":{\"color\":\"#2a3f5f\"},\"error_y\":{\"color\":\"#2a3f5f\"},\"marker\":{\"line\":{\"color\":\"#E5ECF6\",\"width\":0.5},\"pattern\":{\"fillmode\":\"overlay\",\"size\":10,\"solidity\":0.2}},\"type\":\"bar\"}],\"barpolar\":[{\"marker\":{\"line\":{\"color\":\"#E5ECF6\",\"width\":0.5},\"pattern\":{\"fillmode\":\"overlay\",\"size\":10,\"solidity\":0.2}},\"type\":\"barpolar\"}],\"carpet\":[{\"aaxis\":{\"endlinecolor\":\"#2a3f5f\",\"gridcolor\":\"white\",\"linecolor\":\"white\",\"minorgridcolor\":\"white\",\"startlinecolor\":\"#2a3f5f\"},\"baxis\":{\"endlinecolor\":\"#2a3f5f\",\"gridcolor\":\"white\",\"linecolor\":\"white\",\"minorgridcolor\":\"white\",\"startlinecolor\":\"#2a3f5f\"},\"type\":\"carpet\"}],\"choropleth\":[{\"colorbar\":{\"outlinewidth\":0,\"ticks\":\"\"},\"type\":\"choropleth\"}],\"contour\":[{\"colorbar\":{\"outlinewidth\":0,\"ticks\":\"\"},\"colorscale\":[[0.0,\"#0d0887\"],[0.1111111111111111,\"#46039f\"],[0.2222222222222222,\"#7201a8\"],[0.3333333333333333,\"#9c179e\"],[0.4444444444444444,\"#bd3786\"],[0.5555555555555556,\"#d8576b\"],[0.6666666666666666,\"#ed7953\"],[0.7777777777777778,\"#fb9f3a\"],[0.8888888888888888,\"#fdca26\"],[1.0,\"#f0f921\"]],\"type\":\"contour\"}],\"contourcarpet\":[{\"colorbar\":{\"outlinewidth\":0,\"ticks\":\"\"},\"type\":\"contourcarpet\"}],\"heatmap\":[{\"colorbar\":{\"outlinewidth\":0,\"ticks\":\"\"},\"colorscale\":[[0.0,\"#0d0887\"],[0.1111111111111111,\"#46039f\"],[0.2222222222222222,\"#7201a8\"],[0.3333333333333333,\"#9c179e\"],[0.4444444444444444,\"#bd3786\"],[0.5555555555555556,\"#d8576b\"],[0.6666666666666666,\"#ed7953\"],[0.7777777777777778,\"#fb9f3a\"],[0.8888888888888888,\"#fdca26\"],[1.0,\"#f0f921\"]],\"type\":\"heatmap\"}],\"heatmapgl\":[{\"colorbar\":{\"outlinewidth\":0,\"ticks\":\"\"},\"colorscale\":[[0.0,\"#0d0887\"],[0.1111111111111111,\"#46039f\"],[0.2222222222222222,\"#7201a8\"],[0.3333333333333333,\"#9c179e\"],[0.4444444444444444,\"#bd3786\"],[0.5555555555555556,\"#d8576b\"],[0.6666666666666666,\"#ed7953\"],[0.7777777777777778,\"#fb9f3a\"],[0.8888888888888888,\"#fdca26\"],[1.0,\"#f0f921\"]],\"type\":\"heatmapgl\"}],\"histogram\":[{\"marker\":{\"pattern\":{\"fillmode\":\"overlay\",\"size\":10,\"solidity\":0.2}},\"type\":\"histogram\"}],\"histogram2d\":[{\"colorbar\":{\"outlinewidth\":0,\"ticks\":\"\"},\"colorscale\":[[0.0,\"#0d0887\"],[0.1111111111111111,\"#46039f\"],[0.2222222222222222,\"#7201a8\"],[0.3333333333333333,\"#9c179e\"],[0.4444444444444444,\"#bd3786\"],[0.5555555555555556,\"#d8576b\"],[0.6666666666666666,\"#ed7953\"],[0.7777777777777778,\"#fb9f3a\"],[0.8888888888888888,\"#fdca26\"],[1.0,\"#f0f921\"]],\"type\":\"histogram2d\"}],\"histogram2dcontour\":[{\"colorbar\":{\"outlinewidth\":0,\"ticks\":\"\"},\"colorscale\":[[0.0,\"#0d0887\"],[0.1111111111111111,\"#46039f\"],[0.2222222222222222,\"#7201a8\"],[0.3333333333333333,\"#9c179e\"],[0.4444444444444444,\"#bd3786\"],[0.5555555555555556,\"#d8576b\"],[0.6666666666666666,\"#ed7953\"],[0.7777777777777778,\"#fb9f3a\"],[0.8888888888888888,\"#fdca26\"],[1.0,\"#f0f921\"]],\"type\":\"histogram2dcontour\"}],\"mesh3d\":[{\"colorbar\":{\"outlinewidth\":0,\"ticks\":\"\"},\"type\":\"mesh3d\"}],\"parcoords\":[{\"line\":{\"colorbar\":{\"outlinewidth\":0,\"ticks\":\"\"}},\"type\":\"parcoords\"}],\"pie\":[{\"automargin\":true,\"type\":\"pie\"}],\"scatter\":[{\"marker\":{\"colorbar\":{\"outlinewidth\":0,\"ticks\":\"\"}},\"type\":\"scatter\"}],\"scatter3d\":[{\"line\":{\"colorbar\":{\"outlinewidth\":0,\"ticks\":\"\"}},\"marker\":{\"colorbar\":{\"outlinewidth\":0,\"ticks\":\"\"}},\"type\":\"scatter3d\"}],\"scattercarpet\":[{\"marker\":{\"colorbar\":{\"outlinewidth\":0,\"ticks\":\"\"}},\"type\":\"scattercarpet\"}],\"scattergeo\":[{\"marker\":{\"colorbar\":{\"outlinewidth\":0,\"ticks\":\"\"}},\"type\":\"scattergeo\"}],\"scattergl\":[{\"marker\":{\"colorbar\":{\"outlinewidth\":0,\"ticks\":\"\"}},\"type\":\"scattergl\"}],\"scattermapbox\":[{\"marker\":{\"colorbar\":{\"outlinewidth\":0,\"ticks\":\"\"}},\"type\":\"scattermapbox\"}],\"scatterpolar\":[{\"marker\":{\"colorbar\":{\"outlinewidth\":0,\"ticks\":\"\"}},\"type\":\"scatterpolar\"}],\"scatterpolargl\":[{\"marker\":{\"colorbar\":{\"outlinewidth\":0,\"ticks\":\"\"}},\"type\":\"scatterpolargl\"}],\"scatterternary\":[{\"marker\":{\"colorbar\":{\"outlinewidth\":0,\"ticks\":\"\"}},\"type\":\"scatterternary\"}],\"surface\":[{\"colorbar\":{\"outlinewidth\":0,\"ticks\":\"\"},\"colorscale\":[[0.0,\"#0d0887\"],[0.1111111111111111,\"#46039f\"],[0.2222222222222222,\"#7201a8\"],[0.3333333333333333,\"#9c179e\"],[0.4444444444444444,\"#bd3786\"],[0.5555555555555556,\"#d8576b\"],[0.6666666666666666,\"#ed7953\"],[0.7777777777777778,\"#fb9f3a\"],[0.8888888888888888,\"#fdca26\"],[1.0,\"#f0f921\"]],\"type\":\"surface\"}],\"table\":[{\"cells\":{\"fill\":{\"color\":\"#EBF0F8\"},\"line\":{\"color\":\"white\"}},\"header\":{\"fill\":{\"color\":\"#C8D4E3\"},\"line\":{\"color\":\"white\"}},\"type\":\"table\"}]},\"layout\":{\"annotationdefaults\":{\"arrowcolor\":\"#2a3f5f\",\"arrowhead\":0,\"arrowwidth\":1},\"autotypenumbers\":\"strict\",\"coloraxis\":{\"colorbar\":{\"outlinewidth\":0,\"ticks\":\"\"}},\"colorscale\":{\"diverging\":[[0,\"#8e0152\"],[0.1,\"#c51b7d\"],[0.2,\"#de77ae\"],[0.3,\"#f1b6da\"],[0.4,\"#fde0ef\"],[0.5,\"#f7f7f7\"],[0.6,\"#e6f5d0\"],[0.7,\"#b8e186\"],[0.8,\"#7fbc41\"],[0.9,\"#4d9221\"],[1,\"#276419\"]],\"sequential\":[[0.0,\"#0d0887\"],[0.1111111111111111,\"#46039f\"],[0.2222222222222222,\"#7201a8\"],[0.3333333333333333,\"#9c179e\"],[0.4444444444444444,\"#bd3786\"],[0.5555555555555556,\"#d8576b\"],[0.6666666666666666,\"#ed7953\"],[0.7777777777777778,\"#fb9f3a\"],[0.8888888888888888,\"#fdca26\"],[1.0,\"#f0f921\"]],\"sequentialminus\":[[0.0,\"#0d0887\"],[0.1111111111111111,\"#46039f\"],[0.2222222222222222,\"#7201a8\"],[0.3333333333333333,\"#9c179e\"],[0.4444444444444444,\"#bd3786\"],[0.5555555555555556,\"#d8576b\"],[0.6666666666666666,\"#ed7953\"],[0.7777777777777778,\"#fb9f3a\"],[0.8888888888888888,\"#fdca26\"],[1.0,\"#f0f921\"]]},\"colorway\":[\"#636efa\",\"#EF553B\",\"#00cc96\",\"#ab63fa\",\"#FFA15A\",\"#19d3f3\",\"#FF6692\",\"#B6E880\",\"#FF97FF\",\"#FECB52\"],\"font\":{\"color\":\"#2a3f5f\"},\"geo\":{\"bgcolor\":\"white\",\"lakecolor\":\"white\",\"landcolor\":\"#E5ECF6\",\"showlakes\":true,\"showland\":true,\"subunitcolor\":\"white\"},\"hoverlabel\":{\"align\":\"left\"},\"hovermode\":\"closest\",\"mapbox\":{\"style\":\"light\"},\"paper_bgcolor\":\"white\",\"plot_bgcolor\":\"#E5ECF6\",\"polar\":{\"angularaxis\":{\"gridcolor\":\"white\",\"linecolor\":\"white\",\"ticks\":\"\"},\"bgcolor\":\"#E5ECF6\",\"radialaxis\":{\"gridcolor\":\"white\",\"linecolor\":\"white\",\"ticks\":\"\"}},\"scene\":{\"xaxis\":{\"backgroundcolor\":\"#E5ECF6\",\"gridcolor\":\"white\",\"gridwidth\":2,\"linecolor\":\"white\",\"showbackground\":true,\"ticks\":\"\",\"zerolinecolor\":\"white\"},\"yaxis\":{\"backgroundcolor\":\"#E5ECF6\",\"gridcolor\":\"white\",\"gridwidth\":2,\"linecolor\":\"white\",\"showbackground\":true,\"ticks\":\"\",\"zerolinecolor\":\"white\"},\"zaxis\":{\"backgroundcolor\":\"#E5ECF6\",\"gridcolor\":\"white\",\"gridwidth\":2,\"linecolor\":\"white\",\"showbackground\":true,\"ticks\":\"\",\"zerolinecolor\":\"white\"}},\"shapedefaults\":{\"line\":{\"color\":\"#2a3f5f\"}},\"ternary\":{\"aaxis\":{\"gridcolor\":\"white\",\"linecolor\":\"white\",\"ticks\":\"\"},\"baxis\":{\"gridcolor\":\"white\",\"linecolor\":\"white\",\"ticks\":\"\"},\"bgcolor\":\"#E5ECF6\",\"caxis\":{\"gridcolor\":\"white\",\"linecolor\":\"white\",\"ticks\":\"\"}},\"title\":{\"x\":0.05},\"xaxis\":{\"automargin\":true,\"gridcolor\":\"white\",\"linecolor\":\"white\",\"ticks\":\"\",\"title\":{\"standoff\":15},\"zerolinecolor\":\"white\",\"zerolinewidth\":2},\"yaxis\":{\"automargin\":true,\"gridcolor\":\"white\",\"linecolor\":\"white\",\"ticks\":\"\",\"title\":{\"standoff\":15},\"zerolinecolor\":\"white\",\"zerolinewidth\":2}}},\"xaxis\":{\"anchor\":\"y\",\"domain\":[0.0,1.0],\"title\":{\"text\":\"sum of Severe Wasting\"}},\"yaxis\":{\"anchor\":\"x\",\"domain\":[0.0,1.0],\"title\":{\"text\":\"Country\"}},\"legend\":{\"title\":{\"text\":\"Income Classification\"},\"tracegroupgap\":0},\"margin\":{\"t\":60},\"barmode\":\"relative\",\"height\":600,\"width\":1000},                        {\"responsive\": true}                    ).then(function(){\n",
       "                            \n",
       "var gd = document.getElementById('629d4fdb-6f16-40a5-b4b7-2d8950d79ab0');\n",
       "var x = new MutationObserver(function (mutations, observer) {{\n",
       "        var display = window.getComputedStyle(gd).display;\n",
       "        if (!display || display === 'none') {{\n",
       "            console.log([gd, 'removed!']);\n",
       "            Plotly.purge(gd);\n",
       "            observer.disconnect();\n",
       "        }}\n",
       "}});\n",
       "\n",
       "// Listen for the removal of the full notebook cells\n",
       "var notebookContainer = gd.closest('#notebook-container');\n",
       "if (notebookContainer) {{\n",
       "    x.observe(notebookContainer, {childList: true});\n",
       "}}\n",
       "\n",
       "// Listen for the clearing of the current output cell\n",
       "var outputEl = gd.closest('.output');\n",
       "if (outputEl) {{\n",
       "    x.observe(outputEl, {childList: true});\n",
       "}}\n",
       "\n",
       "                        })                };                });            </script>        </div>"
      ]
     },
     "metadata": {},
     "output_type": "display_data"
    }
   ],
   "source": [
    "sever_wasting = px.histogram(Data_CWA.sort_values(by=[\"Income Classification\",\"Severe Wasting\"], ascending=[False,True]).reset_index(drop=True), \n",
    "x=\"Severe Wasting\", y='Country',color= 'Income Classification',height=600,width=1000, color_discrete_sequence=px.colors.qualitative.Safe)\n",
    "sever_wasting.show()"
   ]
  },
  {
   "cell_type": "markdown",
   "metadata": {},
   "source": [
    "#### Countplot of Low income food deficit countries"
   ]
  },
  {
   "cell_type": "code",
   "execution_count": 15,
   "metadata": {},
   "outputs": [
    {
     "data": {
      "image/png": "[encoded data removed]",
      "text/plain": [
       "<Figure size 432x288 with 1 Axes>"
      ]
     },
     "metadata": {
      "needs_background": "light"
     },
     "output_type": "display_data"
    }
   ],
   "source": [
    "sns.countplot(x='Low_Income_Food_Deficit',data=mal_countries[[\"Low_Income_Food_Deficit\", \"Country\"]].drop_duplicates());\n"
   ]
  },
  {
   "cell_type": "markdown",
   "metadata": {},
   "source": [
    "#### Countplot of Least developed countries"
   ]
  },
  {
   "cell_type": "code",
   "execution_count": 16,
   "metadata": {},
   "outputs": [
    {
     "data": {
      "text/plain": [
       "<AxesSubplot:xlabel='Least_Developed_Country', ylabel='count'>"
      ]
     },
     "execution_count": 16,
     "metadata": {},
     "output_type": "execute_result"
    },
    {
     "data": {
      "image/png": "[encoded data removed]",
      "text/plain": [
       "<Figure size 432x288 with 1 Axes>"
      ]
     },
     "metadata": {
      "needs_background": "light"
     },
     "output_type": "display_data"
    }
   ],
   "source": [
    "sns.countplot(x='Least_Developed_Country',data=mal_countries[[\"Least_Developed_Country\", \"Country\"]].drop_duplicates())\n"
   ]
  },
  {
   "cell_type": "markdown",
   "metadata": {},
   "source": [
    "#### Countplot of Landlocked Developed Countries or small island developing states"
   ]
  },
  {
   "cell_type": "code",
   "execution_count": 17,
   "metadata": {},
   "outputs": [
    {
     "data": {
      "image/png": "[encoded data removed]",
      "text/plain": [
       "<Figure size 432x288 with 1 Axes>"
      ]
     },
     "metadata": {
      "needs_background": "light"
     },
     "output_type": "display_data"
    }
   ],
   "source": [
    "sns.countplot(x='Landlocked_Developed_Countries',data=mal_countries[[\"Landlocked_Developed_Countries\", \"Country\"]].drop_duplicates());"
   ]
  },
  {
   "cell_type": "markdown",
   "metadata": {},
   "source": [
    "#### Pairplot to show correaltion between the three important dimensions : severe wasting, underweight, overweight"
   ]
  },
  {
   "cell_type": "code",
   "execution_count": 18,
   "metadata": {},
   "outputs": [
    {
     "data": {
      "text/plain": [
       "<seaborn.axisgrid.PairGrid at 0x19cf28df370>"
      ]
     },
     "execution_count": 18,
     "metadata": {},
     "output_type": "execute_result"
    },
    {
     "data": {
      "image/png": "[encoded data removed]",
      "text/plain": [
       "<Figure size 540x540 with 12 Axes>"
      ]
     },
     "metadata": {
      "needs_background": "light"
     },
     "output_type": "display_data"
    }
   ],
   "source": [
    "sns.pairplot(Data_CWA[['Severe Wasting','Overweight','Underweight']])\n",
    "plt.show()"
   ]
  },
  {
   "cell_type": "markdown",
   "metadata": {},
   "source": [
    "#### plotting what percent of children Under-five mortality rate (per 1000 live births) actually fall under the underweight category"
   ]
  },
  {
   "cell_type": "code",
   "execution_count": 19,
   "metadata": {},
   "outputs": [],
   "source": [
    "# replace null values in Underweight column in df with mean of underweight of each country\n",
    "Data_CWA[\"Underweight\"]=Data_CWA[\"Underweight\"].fillna(Data_CWA[\"Underweight\"].mean())\n",
    "\n",
    "# converting u5 population and underweight to integer \n",
    "Data_CWA[\"U5 Population ('000s)\"] = Data_CWA[\"U5 Population ('000s)\"].astype(np.int64)\n",
    "Data_CWA[\"Underweight\"]=Data_CWA[\"Underweight\"].astype(np.int64)"
   ]
  },
  {
   "cell_type": "code",
   "execution_count": 20,
   "metadata": {},
   "outputs": [
    {
     "data": {
      "image/png": "[encoded data removed]",
      "text/plain": [
       "<Figure size 432x288 with 1 Axes>"
      ]
     },
     "metadata": {
      "needs_background": "light"
     },
     "output_type": "display_data"
    }
   ],
   "source": [
    "sns.scatterplot(data=mal_countries, x='Underweight', y='U5 Population (\\'000s)');"
   ]
  },
  {
   "cell_type": "code",
   "execution_count": null,
   "metadata": {},
   "outputs": [],
   "source": []
  }
 ],
 "metadata": {
  "interpreter": {
   "hash": "32daa97fe50eddd3c277645e648f3b7ab9d2bd3839ca8d9f0eb9e5f2dcfc0b25"
  },
  "kernelspec": {
   "display_name": "Python 3.9.6 ('aku_mldl')",
   "language": "python",
   "name": "python3"
  },
  "language_info": {
   "codemirror_mode": {
    "name": "ipython",
    "version": 3
   },
   "file_extension": ".py",
   "mimetype": "text/x-python",
   "name": "python",
   "nbconvert_exporter": "python",
   "pygments_lexer": "ipython3",
   "version": "3.9.6"
  },
  "orig_nbformat": 4
 },
 "nbformat": 4,
 "nbformat_minor": 2
}
